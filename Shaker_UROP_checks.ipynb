{
 "cells": [
  {
   "cell_type": "code",
   "execution_count": 10,
   "id": "26a46071-b78d-4ca3-bedd-efe2fa53ae7d",
   "metadata": {},
   "outputs": [],
   "source": [
    "using SparseArrays\n",
    "using LinearAlgebra\n",
    "using NLopt\n",
    "using PyPlot\n",
    "using KrylovKit\n",
    "using FiniteDifferences\n",
    "using TopologyOptimizationHelper"
   ]
  },
  {
   "cell_type": "code",
   "execution_count": 11,
   "id": "788d22a9-88b0-4d28-9ece-adda8f5de183",
   "metadata": {},
   "outputs": [],
   "source": [
    "# Our favorite parameters for testing\n",
    "# Run to recompute random variables\n",
    "L = 20\n",
    "ε = rand(480) .* 11 .+ 1\n",
    "δε = randn(480) * 1e-6\n",
    "ω = 2π\n",
    "δω = randn() * 1e-6\n",
    "dir = randn(length(ε))\n",
    "\n",
    "A, x = Maxwell1d(L, ε, ω)\n",
    "new_ε_A, _ = Maxwell1d(L, ε + δε, ω)\n",
    "new_ω_A, _ = Maxwell1d(L, ε, ω + δω)\n",
    "\n",
    "M = length(x)\n",
    "b = zeros(M)\n",
    "b[M÷2] = 1;"
   ]
  },
  {
   "cell_type": "code",
   "execution_count": 12,
   "id": "467fb5ec-512e-4c6e-8467-5e32f127bcff",
   "metadata": {},
   "outputs": [
    {
     "name": "stdout",
     "output_type": "stream",
     "text": [
      "new_LDOS - LDOS = 1.737817164067936e-11\n"
     ]
    },
    {
     "data": {
      "text/plain": [
       "1.7377361804715755e-11"
      ]
     },
     "execution_count": 12,
     "metadata": {},
     "output_type": "execute_result"
    }
   ],
   "source": [
    "# Exact ∇_ε_LDOS versus finite difference\n",
    "LDOS, ∇LDOS = ∇_ε_LDOS(A, b, ω)\n",
    "new_LDOS, _ = ∇_ε_LDOS(new_ε_A, b, ω)\n",
    "\n",
    "@show new_LDOS - LDOS\n",
    "∇LDOS' * δε"
   ]
  },
  {
   "cell_type": "code",
   "execution_count": 13,
   "id": "58593b00-30e6-41cf-a292-0dc1ce97b7f9",
   "metadata": {},
   "outputs": [
    {
     "name": "stdout",
     "output_type": "stream",
     "text": [
      "sqrt(new_val) - sqrt(val) = -1.3364577444718861e-7 + 6.355746252917089e-11im\n",
      "dot(δε, gradient) = -1.3364576942715878e-7 + 6.355746955321727e-11im\n",
      "extrapolate_fdm(central_fdm(2, 1), f, 0) = (-0.1183036117123022 - 0.0001722573584995295im, 5.116760673730784e-11)\n"
     ]
    },
    {
     "data": {
      "text/plain": [
       "-0.11830361171170992 - 0.00017225735850513092im"
      ]
     },
     "execution_count": 13,
     "metadata": {},
     "output_type": "execute_result"
    }
   ],
   "source": [
    "# Exact ∇_ε_ω₀ versus finite difference\n",
    "val, _ = Arnoldi_eig(A, ε, ω, b)\n",
    "new_val, _ = Arnoldi_eig(new_ε_A, ε + δε, ω, b)\n",
    "gradient = Eigengradient(A, ε, ω, b)\n",
    "@show sqrt(new_val) - sqrt(val)\n",
    "@show dot(δε, gradient)\n",
    "\n",
    "# Exact ∇_ε_ω₀ versus Richardson extrapolation \n",
    "f = α -> Maxwell_omega(L, ε + α * dir, ω, b)\n",
    "@show extrapolate_fdm(central_fdm(2, 1), f, 0)\n",
    "dir' * gradient"
   ]
  },
  {
   "cell_type": "code",
   "execution_count": 14,
   "id": "cf426fb1-766d-46f8-b852-346b770cfb0c",
   "metadata": {},
   "outputs": [
    {
     "name": "stdout",
     "output_type": "stream",
     "text": [
      "new_LDOS - LDOS = 1.5569247812724137e-10\n"
     ]
    },
    {
     "data": {
      "text/plain": [
       "1-element Vector{Float64}:\n",
       " 1.5563210705550908e-10"
      ]
     },
     "execution_count": 14,
     "metadata": {},
     "output_type": "execute_result"
    }
   ],
   "source": [
    "# Exact ∇_ω_LDOS versus finite difference\n",
    "∇LDOS = ∇_ω_LDOS(A, b, ε, ω)\n",
    "LDOS = Just_LDOS(L, ε, ω, b)\n",
    "new_LDOS = Just_LDOS(L, ε, ω + δω, b; ω_pml=ω)\n",
    "\n",
    "@show new_LDOS - LDOS\n",
    "∇LDOS * real(δω)"
   ]
  },
  {
   "cell_type": "code",
   "execution_count": 17,
   "id": "7a2b370f-1c84-4b4f-8832-f09ed5ce085d",
   "metadata": {},
   "outputs": [
    {
     "name": "stdout",
     "output_type": "stream",
     "text": [
      "new_LDOS - LDOS = -1.4021117637156438e-8\n",
      "∇LDOS' * δε = -1.4021195874245141e-8\n",
      "extrapolate_fdm(central_fdm(2, 1), f, 0) = (0.0003083412152716399, 1.2294624411428312e-12)\n"
     ]
    },
    {
     "data": {
      "text/plain": [
       "0.00030834121409575"
      ]
     },
     "execution_count": 17,
     "metadata": {},
     "output_type": "execute_result"
    }
   ],
   "source": [
    "# Exact improved gradient versus finite difference\n",
    "ω₀ = Maxwell_omega(L, ε, ω, b)\n",
    "A₀, _ = Maxwell1d(L, ε, real(ω₀); ω_pml=ω)\n",
    "LDOS, ∇LDOS = Improved_∇_ε_LDOS(A₀, ε, real(ω₀), b; ω_pml=ω)\n",
    "new_LDOS =  Just_Improved_LDOS(L, ε + δε, ω, b)\n",
    "@show new_LDOS - LDOS\n",
    "@show ∇LDOS' * δε\n",
    "\n",
    "# Exact improved gradient versus Richardson extrapolation\n",
    "f = α -> Just_Improved_LDOS(L, ε + α * dir, ω, b)\n",
    "@show extrapolate_fdm(central_fdm(2, 1), f, 0)\n",
    "dir' * ∇LDOS"
   ]
  }
 ],
 "metadata": {
  "kernelspec": {
   "display_name": "Julia 1.10.4",
   "language": "julia",
   "name": "julia-1.10"
  },
  "language_info": {
   "file_extension": ".jl",
   "mimetype": "application/julia",
   "name": "julia",
   "version": "1.10.4"
  }
 },
 "nbformat": 4,
 "nbformat_minor": 5
}
