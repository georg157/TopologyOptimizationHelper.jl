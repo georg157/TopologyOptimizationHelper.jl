{
 "cells": [
  {
   "cell_type": "code",
   "execution_count": 1,
   "id": "5db62599-2dbd-4b80-bcb2-d0cb825764ac",
   "metadata": {},
   "outputs": [
    {
     "name": "stderr",
     "output_type": "stream",
     "text": [
      "\u001b[32m\u001b[1mPrecompiling\u001b[22m\u001b[39m TopologyOptimizationHelper\n",
      "\u001b[32m  ✓ \u001b[39mTopologyOptimizationHelper\n",
      "  1 dependency successfully precompiled in 8 seconds. 39 already precompiled.\n"
     ]
    }
   ],
   "source": [
    "using SparseArrays\n",
    "using LinearAlgebra\n",
    "using NLopt\n",
    "using PyPlot\n",
    "using KrylovKit\n",
    "using Statistics\n",
    "using FiniteDifferences\n",
    "using Revise\n",
    "using IJulia\n",
    "using TopologyOptimizationHelper"
   ]
  },
  {
   "cell_type": "code",
   "execution_count": 2,
   "id": "900ce457-28a7-4f4a-9468-27c238c04c4a",
   "metadata": {},
   "outputs": [],
   "source": [
    "Lx = 5\n",
    "Ly = 5\n",
    "res = 20\n",
    "ε = ones(res * (Ly + 1), res * (Lx + 1))\n",
    "ω = 2π\n",
    "\n",
    "N, M = size(ε)\n",
    "b = zeros(N, M)\n",
    "b[N÷2, M÷2] = 1;"
   ]
  },
  {
   "cell_type": "code",
   "execution_count": 3,
   "id": "2a967bbd-fb97-4722-a59c-a7f219b67e8c",
   "metadata": {},
   "outputs": [],
   "source": [
    "function LDOS_Optimize2d(Lx, Ly, ε, ω, b; dpml=0.5, resolution=20, Rpml=1e-20, ftol=1e-4, max_eval=500, design_dimensions=(Lx, Ly), α=0)\n",
    "    A, x, y = Maxwell2d(Lx, Ly, ε, ω; dpml, resolution, Rpml)\n",
    "    ε = vec(ε)\n",
    "    b = vec(b)\n",
    "    D² = A + spdiagm(ω^2 .* ε)\n",
    "    M, N = length(x), length(y)\n",
    "    LDOS_vals = Float64[]\n",
    "    omegas = ComplexF64[]\n",
    "    \n",
    "    function LDOS_obj(ε, grad)\n",
    "        ε = vec(ε)\n",
    "        A = D² - spdiagm(ω^2 .* ε .* (1 + α * im))\n",
    "        LDOS, ∇LDOS = ∇_ε_LDOS(A, ω, b; α)\n",
    "        grad .= ∇LDOS\n",
    "        push!(LDOS_vals, LDOS)\n",
    "\n",
    "        IJulia.clear_output(true)  # Clear notebook output\n",
    "        plt.clf()  # Clear the current figure, removes all previous plots\n",
    "        \n",
    "        figure(figsize=(6, 6))  # Fix the figure size to avoid shrinking\n",
    "        imshow(reshape(ε, N,M), cmap=\"coolwarm\", vmin=1, vmax=12)\n",
    "        title(\"Iteration $(length(LDOS_vals)), LDOS = $LDOS\")\n",
    "        colorbar(label=L\"ε_{opt}\")\n",
    "\n",
    "        display(gcf())  # Display the current figure in the notebook\n",
    "        sleep(0.1)  # Pause to visualize the update\n",
    "\n",
    "        A_now, _, _ = Maxwell2d(Lx, Ly, reshape(ε, N,M), ω; resolution=res)\n",
    "        ω₀_now = sqrt(Arnoldi_eig(A_now, vec(ε), ω, vec(b))[1])\n",
    "        push!(omegas, ω₀_now)\n",
    "        return LDOS\n",
    "    end\n",
    "\n",
    "    design_x, design_y = design_dimensions\n",
    "    x_indices = -design_x / 2 .< x .- mean(x) .< design_x / 2\n",
    "    y_indices = -design_y / 2 .< y .- mean(y) .< design_y / 2\n",
    "    ub = ones(N,M)\n",
    "    ub[y_indices, x_indices] .= 12\n",
    "    ub = vec(ub)\n",
    "    \n",
    "    opt = Opt(:LD_CCSAQ, M * N)\n",
    "    opt.lower_bounds = 1\n",
    "    opt.upper_bounds = ub\n",
    "    opt.ftol_rel = ftol\n",
    "    opt.maxeval = max_eval\n",
    "    opt.max_objective = LDOS_obj\n",
    "\n",
    "    (LDOS_opt, ε_opt, ret) = optimize(opt, ε)\n",
    "    A_opt, _, _ = Maxwell2d(Lx, Ly, ε_opt, ω; resolution=res)\n",
    "    ω₀_opt = sqrt(Arnoldi_eig(A_opt, vec(ε_opt), ω, vec(b))[1])\n",
    "    Q_opt = -real(ω₀_opt) / 2imag(ω₀_opt)\n",
    "    \n",
    "    IJulia.clear_output(true)  # Clear notebook output\n",
    "    plt.clf()  # Clear the current figure, removes all previous plots\n",
    "\n",
    "    @show numevals = opt.numevals # the number of function evaluations\n",
    "    @show ω₀_opt\n",
    "    @show Q_opt\n",
    "    \n",
    "    return LDOS_opt, reshape(ε_opt, N,M), LDOS_vals, omegas, x, y\n",
    "end\n",
    "\n",
    "export LDOS_Optimize2d"
   ]
  },
  {
   "cell_type": "code",
   "execution_count": 4,
   "id": "18a97eb6-8659-40c0-81b3-8414faa8c1b5",
   "metadata": {},
   "outputs": [
    {
     "data": {
      "text/plain": [
       "mod_LDOS_Optimize2d (generic function with 1 method)"
      ]
     },
     "execution_count": 4,
     "metadata": {},
     "output_type": "execute_result"
    }
   ],
   "source": [
    "function mod_LDOS_Optimize2d(Lx, Ly, ε, ω, b, x₀; dpml=0.5, resolution=20, Rpml=1e-20, ftol=1e-4, max_eval=500, design_dimensions=(Lx,Ly))\n",
    "    A, x, y = Maxwell2d(Lx, Ly, ε, ω; dpml, resolution, Rpml)\n",
    "    ε = vec(ε)\n",
    "    b = vec(b)\n",
    "    D² = A + ω^2 .* spdiagm(ε)\n",
    "    M, N = length(x), length(y)\n",
    "    mod_LDOS_vals = Float64[]\n",
    "    mod_omegas = ComplexF64[]\n",
    "    ω_old = ω\n",
    "    u_old = ones(M * N)\n",
    "    LDOS_old = ∇_ε_LDOS(A, ω, vec(b))[1]\n",
    "    \n",
    "    function mod_LDOS_obj(ε, grad)\n",
    "        ε = vec(ε)\n",
    "        E = spdiagm(ε)\n",
    "        A = D² - real(ω_old)^2 .* E\n",
    "        E⁻¹ = spdiagm(1 ./ ε)\n",
    "        C = E⁻¹ * A\n",
    "        LU = lu(C)\n",
    "        vals, vecs, _ = eigsolve(z -> LU \\ z, x₀, 1, :LM, Arnoldi())\n",
    "        vals = sqrt.(1 ./ vals .+ real(ω_old)^2)\n",
    "        # We could also just have * done here every time\n",
    "        # Pros: outperforms old scheme (and this one)\n",
    "        # Cons: monotonically decreases on some intervals\n",
    "        ω₀, u₀ = vals[1], vecs[1]\n",
    "        A₀ = D² - real(ω₀)^2 .* E\n",
    "        v = A₀ \\ b\n",
    "        w = A₀' \\ b\n",
    "        \n",
    "        LDOS = -imag(v' * b)\n",
    "        if LDOS > LDOS_old\n",
    "            # *\n",
    "            # ω_old = ω₀\n",
    "\n",
    "            # **\n",
    "            ω_old, u_old = ω₀, u₀\n",
    "\n",
    "            \n",
    "            LDOS_old = LDOS\n",
    "        else\n",
    "            # *\n",
    "            # ind = findmin(abs.(vals .- real(ω_old)))[2]\n",
    "\n",
    "            # **\n",
    "            ind = findmax([abs(dot(u_old, vec)) / (norm(u_old) * norm(vec)) for vec in vecs])[2]\n",
    "\n",
    "            \n",
    "            ω₀, u₀ = vals[ind], vecs[ind]\n",
    "            A₀ = D² - real(ω₀)^2 .* E\n",
    "            v = A₀ \\ b\n",
    "            w = A₀' \\ b\n",
    "        end\n",
    "        \n",
    "        reals = real.(vals)\n",
    "        imaginaries = imag.(vals)\n",
    "        if !isempty(grad) \n",
    "            ∂LDOS_∂ε = -imag.(real(ω₀)^2 .* conj.(v) .* w)\n",
    "            ∂LDOS_∂ω = -imag(2real(ω₀) .* v' * E * w)\n",
    "            ∂ω_∂ε = -ω₀ .* u₀.^2 ./ 2sum(u₀.^2 .* ε)\n",
    "            ∇LDOS = ∂LDOS_∂ε .+  ∂LDOS_∂ω .* real.(∂ω_∂ε)\n",
    "\n",
    "            grad .= ∇LDOS\n",
    "        end\n",
    "\n",
    "        push!(mod_LDOS_vals, LDOS)\n",
    "        push!(mod_omegas, ω₀)\n",
    "\n",
    "        IJulia.clear_output(true)  # Clear notebook output\n",
    "        plt.clf()  # Clear the current figure, removes all previous plots\n",
    "        \n",
    "        fig, ax = plt.subplots(1,2, figsize=(15, 5))  # Fix the figure size to avoid shrinking\n",
    "        ε_graph = ax[1].imshow(reshape(ε, N,M), cmap=\"coolwarm\", vmin=1, vmax=12)\n",
    "        ax[1].set_title(\"Iteration $(length(mod_LDOS_vals)), LDOS = $LDOS\")\n",
    "        plt.colorbar(ε_graph, label=L\"ε_{opt}\", ax=ax[1])\n",
    "\n",
    "        ax[2].scatter(reals[2:end], imaginaries[2:end], color=\"blue\")\n",
    "        ax[2].scatter(reals[1], imaginaries[1], color=\"red\")\n",
    "        ax[2].scatter(real(ω_old), imag(ω_old), color=\"green\")\n",
    "        ax[2].set_xlim(6,6.5)\n",
    "        ax[2].set_ylim(-0.5, 0.01)\n",
    "\n",
    "        display(gcf())  # Display the current figure in the notebook\n",
    "        sleep(0.1)  # Pause to visualize the update\n",
    "\n",
    "        return LDOS\n",
    "    end\n",
    "\n",
    "    function freq_constraint(ε, grad)\n",
    "        ω₀, ∂ω_∂ε = Eigengradient(A, ε, ω, x₀)\n",
    "        if !isempty(grad) \n",
    "            grad .= -real.(∂ω_∂ε)\n",
    "        end\n",
    "\n",
    "        return ω - real(ω₀)\n",
    "    end\n",
    "\n",
    "    design_x, design_y = design_dimensions\n",
    "    x_indices = -design_x / 2 .< x .- mean(x) .< design_x / 2\n",
    "    y_indices = -design_y / 2 .< y .- mean(y) .< design_y / 2\n",
    "    ub = ones(N,M)\n",
    "    ub[y_indices, x_indices] .= 12\n",
    "    ub = vec(ub)\n",
    "    \n",
    "    opt = Opt(:LD_CCSAQ, M * N)\n",
    "    # opt.params[\"verbosity\"] = 1\n",
    "    opt.lower_bounds = 1\n",
    "    opt.upper_bounds = ub\n",
    "    opt.ftol_rel = ftol\n",
    "    opt.maxeval = max_eval\n",
    "    opt.max_objective = mod_LDOS_obj\n",
    "    opt.initial_step = 1e-3\n",
    "    inequality_constraint!(opt, freq_constraint)\n",
    "\n",
    "    (mod_LDOS_opt, mod_ε_opt, ret) = optimize(opt, ε)\n",
    "    A_opt, _, _ = Maxwell2d(Lx, Ly, mod_ε_opt, ω; resolution=res)\n",
    "    ω₀_opt = sqrt(Arnoldi_eig(A_opt, vec(mod_ε_opt), ω, vec(b))[1])\n",
    "    Q_opt = -real(ω₀_opt) / 2imag(ω₀_opt)\n",
    "    \n",
    "    IJulia.clear_output(true)  # Clear notebook output\n",
    "    plt.clf()\n",
    "\n",
    "    @show numevals = opt.numevals # the number of function evaluations\n",
    "    @show ω₀_opt\n",
    "    @show Q_opt\n",
    "    \n",
    "    return mod_LDOS_opt, reshape(mod_ε_opt, N,M), mod_LDOS_vals, mod_omegas, x, y\n",
    "end"
   ]
  },
  {
   "cell_type": "code",
   "execution_count": null,
   "id": "fea54419-df05-4459-80a1-409decab8400",
   "metadata": {},
   "outputs": [
    {
     "data": {
      "image/png": "[encoded data removed]",
      "text/plain": [
       "Figure(PyObject <Figure size 600x600 with 2 Axes>)"
      ]
     },
     "metadata": {},
     "output_type": "display_data"
    }
   ],
   "source": [
    "LDOS_opt, ε_opt, LDOS_vals, omegas, x, y = LDOS_Optimize2d(Lx, Ly, ε, ω, b; resolution=res, max_eval=50, ftol=0, α=0.1)\n",
    "@show LDOS_opt\n",
    "imshow(ε_opt, cmap=\"coolwarm\", vmin=1, vmax=12)\n",
    "title(\"Iteration $(length(LDOS_vals)), LDOS = $LDOS_opt\")\n",
    "colorbar(label=L\"ε_{opt}\")"
   ]
  },
  {
   "cell_type": "code",
   "execution_count": null,
   "id": "2d795b4b-4d4a-45f4-bc8e-a67f0a39beb4",
   "metadata": {},
   "outputs": [],
   "source": [
    "semilogy(LDOS_vals)\n",
    "semilogy(-real.(omegas) ./ 2imag.(omegas))"
   ]
  },
  {
   "cell_type": "code",
   "execution_count": null,
   "id": "08c7c6ce-6c5d-40e9-ba5f-d8d4d1cb2ac5",
   "metadata": {},
   "outputs": [],
   "source": [
    "mod_LDOS_opt, mod_ε_opt, mod_LDOS_vals, mod_omegas, _, _ = mod_LDOS_Optimize2d(Lx, Ly, ε_opt, ω, b, vec(b); resolution=res, max_eval=100, ftol=0)\n",
    "@show mod_LDOS_opt\n",
    "imshow(mod_ε_opt, cmap=\"coolwarm\", vmin=1, vmax=12)\n",
    "colorbar(label=L\"ε_{opt}\")"
   ]
  },
  {
   "cell_type": "code",
   "execution_count": null,
   "id": "7a036a1a-0872-429a-8357-c5bc9d6a50d6",
   "metadata": {},
   "outputs": [],
   "source": [
    "semilogy(mod_LDOS_vals)\n",
    "semilogy(-real.(mod_omegas) ./ 2imag.(mod_omegas))"
   ]
  },
  {
   "cell_type": "code",
   "execution_count": null,
   "id": "abfcc013-c044-49f7-a874-05ccad5d3597",
   "metadata": {},
   "outputs": [],
   "source": [
    "## Result of 300 iterations, no alpha, no shifted optimization\n",
    "_, _, LDOS_vals_naive_no_alpha, omegas_naive_no_alpha, _, _ = LDOS_Optimize2d(Lx, Ly, ε, ω, b; resolution=res, max_eval=300, ftol=0, α=0)"
   ]
  },
  {
   "cell_type": "code",
   "execution_count": null,
   "id": "7d250833-63a7-46fd-a807-fe18307b7e58",
   "metadata": {},
   "outputs": [],
   "source": [
    "## Result of 300 iterations, alpha = 0.1, no shifted optimization\n",
    "_, _, LDOS_vals_naive_0point1, omegas_naive_no_0point1, _, _ = LDOS_Optimize2d(Lx, Ly, ε, ω, b; resolution=res, max_eval=300, ftol=0, α=0.1)"
   ]
  },
  {
   "cell_type": "code",
   "execution_count": null,
   "id": "8537774f-5dff-46be-8c9f-0bed29d7202a",
   "metadata": {},
   "outputs": [],
   "source": [
    "# Result of 50 iterations with alpha=0.1 followed by 250 iterations of shifted optimization, no dot products or omega_old\n",
    "_, _, mod_LDOS_vals_nothing_xtra, mod_omegas_nothing_xtra, _, _ = mod_LDOS_Optimize2d(Lx, Ly, ε_opt, ω, b, vec(b); resolution=res, max_eval=250, ftol=0)"
   ]
  },
  {
   "cell_type": "code",
   "execution_count": null,
   "id": "5f1e3ab4-07fd-40a0-a25d-aac9902e5426",
   "metadata": {},
   "outputs": [],
   "source": [
    "# Result of 50 iterations with alpha=0.1 followed by 250 iterations of shifted optimization, omega_old method\n",
    "_, _, mod_LDOS_vals_omega_old, mod_omegas_omega_old, _, _ = mod_LDOS_Optimize2d(Lx, Ly, ε_opt, ω, b, vec(b); resolution=res, max_eval=250, ftol=0)"
   ]
  },
  {
   "cell_type": "code",
   "execution_count": null,
   "id": "c9642712-03a0-4272-9a84-934a1700d357",
   "metadata": {},
   "outputs": [],
   "source": [
    "# Result of 50 iterations with alpha=0.1 followed by 250 iterations of shifted optimization, dot product method\n",
    "_, _, mod_LDOS_vals_dot_product, mod_omegas_dot_product, _, _ = mod_LDOS_Optimize2d(Lx, Ly, ε_opt, ω, b, vec(b); resolution=res, max_eval=250, ftol=0)"
   ]
  },
  {
   "cell_type": "code",
   "execution_count": null,
   "id": "95d12e93-42b7-457e-b3ed-960e879e1095",
   "metadata": {},
   "outputs": [],
   "source": [
    "# ALL LDOSes IN ONE GRAPH\n",
    "## First, the unshifted iterations\n",
    "semilogy(LDOS_vals_naive_no_alpha, color=\"red\")\n",
    "semilogy(LDOS_vals_naive_0point1, color=\"blue\")\n",
    "\n",
    "## Now our various shifted optimization procedures\n",
    "L1 = vcat(LDOS_vals, mod_LDOS_vals_nothing_xtra)\n",
    "semilogy(L1, color=\"green\")\n",
    "L2 = vcat(LDOS_vals, mod_LDOS_vals_omega_old)\n",
    "semilogy(L2, color=\"orange\")\n",
    "L3 = vcat(LDOS_vals, mod_LDOS_vals_dot_product)\n",
    "semilogy(L3, color=\"black\")\n",
    "\n",
    "xlabel(\"Iteration\")\n",
    "ylabel(\"LDOS\")"
   ]
  },
  {
   "cell_type": "code",
   "execution_count": null,
   "id": "c95827a1-1ca8-433c-80c7-e238d0b5723c",
   "metadata": {},
   "outputs": [],
   "source": [
    "# ALL Qs IN ONE GRAPH\n",
    "## First, the unshifted iterations\n",
    "semilogy(-real.(omegas_naive_no_alpha) ./ imag.(omegas_naive_no_alpha), color=\"red\")\n",
    "semilogy(-real.(omegas_naive_no_0point1) ./ imag.(omegas_naive_no_0point1), color=\"blue\")\n",
    "\n",
    "## Now our various shifted optimization procedures\n",
    "og_Qs = -real.(omegas) ./ 2imag.(omegas)\n",
    "M1 = vcat(og_Qs, -real.(mod_omegas_nothing_xtra) ./ imag.(mod_omegas_nothing_xtra))\n",
    "semilogy(M1, color=\"green\")\n",
    "M2 = vcat(og_Qs, -real.(mod_omegas_omega_old) ./ imag.(mod_omegas_omega_old))\n",
    "semilogy(M2, color=\"orange\")\n",
    "M3 = vcat(og_Qs, -real.(mod_omegas_dot_product) ./ imag.(mod_omegas_dot_product))\n",
    "semilogy(M3, color=\"black\")\n",
    "\n",
    "xlabel(\"Iteration\")\n",
    "ylabel(\"Quality Factor\")"
   ]
  }
 ],
 "metadata": {
  "kernelspec": {
   "display_name": "Julia 1.10.4",
   "language": "julia",
   "name": "julia-1.10"
  },
  "language_info": {
   "file_extension": ".jl",
   "mimetype": "application/julia",
   "name": "julia",
   "version": "1.10.4"
  }
 },
 "nbformat": 4,
 "nbformat_minor": 5
}
