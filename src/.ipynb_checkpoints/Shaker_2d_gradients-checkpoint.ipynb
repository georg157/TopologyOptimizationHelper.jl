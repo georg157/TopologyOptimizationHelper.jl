{
 "cells": [
  {
   "cell_type": "code",
   "execution_count": 3,
   "id": "c86c47c1-a6ec-49a5-acc4-e6907040e40b",
   "metadata": {},
   "outputs": [],
   "source": [
    "using SparseArrays\n",
    "using LinearAlgebra\n",
    "using NLopt\n",
    "using PyPlot\n",
    "using KrylovKit\n",
    "using FiniteDifferences\n",
    "using Revise\n",
    "using TopologyOptimizationHelper"
   ]
  },
  {
   "cell_type": "code",
   "execution_count": 16,
   "id": "01f277bb-4342-4db5-9a9a-fd660791571c",
   "metadata": {},
   "outputs": [
    {
     "data": {
      "text/plain": [
       "Maxwell2d (generic function with 1 method)"
      ]
     },
     "execution_count": 16,
     "metadata": {},
     "output_type": "execute_result"
    }
   ],
   "source": [
    "function Maxwell2d(Lx, Ly, ε, ω; dpml=2, resolution=20, Rpml=1e-20, ω_pml=ω)\n",
    "    ε = vec(ε)\n",
    "    # PML σ = σ₀ x²/dpml², with σ₀ chosen so that the round-trip reflection is Rpml\n",
    "    σ₀ = -log(Rpml) / (4dpml^3/3)\n",
    "    \n",
    "    M = round(Int, (Lx+2dpml) * resolution)\n",
    "    N = round(Int, (Ly+2dpml) * resolution)\n",
    "    dx = (Lx+2dpml) / (M+1)\n",
    "    dy = (Ly+2dpml) / (N+1)\n",
    "    x = (1:M) * dx # x grid\n",
    "    y = (1:N) * dy # y grid\n",
    "    x′ = @. ((0:M) + 0.5) * dx # 1st-derivative grid points\n",
    "    y′ = @. ((0:N) + 0.5) * dy\n",
    "    \n",
    "    # 1st-derivative matrices\n",
    "    ox = ones(M) / dx\n",
    "    oy = ones(N) / dy\n",
    "    Dx = spdiagm(M+1,M, -1 => -ox, 0 => ox)\n",
    "    Dy = spdiagm(N+1,N, -1 => -oy, 0 => oy)\n",
    "    \n",
    "    # PML complex \"stretch\" factors 1/(1+iσ/ω_pml) at both x and x' points:\n",
    "    σx = [ξ < dpml ? σ₀*(dpml-ξ)^2 : ξ > Lx+dpml ? σ₀*(ξ-(Lx+dpml))^2 : 0.0 for ξ in x]\n",
    "    sqrtΣx = spdiagm(@. sqrt(inv(1 + (im/ω_pml)*σx)))\n",
    "    σx′ = [ξ < dpml ? σ₀*(dpml-ξ)^2 : ξ > Lx+dpml ? σ₀*(ξ-(Lx+dpml))^2 : 0.0 for ξ in x′]\n",
    "    Σx′ = spdiagm(@. inv(1 + (im/ω_pml)*σx′))\n",
    "    # similarly for y and y':\n",
    "    σy = [ξ < dpml ? σ₀*(dpml-ξ)^2 : ξ > Ly+dpml ? σ₀*(ξ-(Ly+dpml))^2 : 0.0 for ξ in y]\n",
    "    sqrtΣy = spdiagm(@. sqrt(inv(1 + (im/ω_pml)*σy)))\n",
    "    σy′ = [ξ < dpml ? σ₀*(dpml-ξ)^2 : ξ > Ly+dpml ? σ₀*(ξ-(Ly+dpml))^2 : 0.0 for ξ in y′]\n",
    "    Σy′ = spdiagm(@. inv(1 + (im/ω_pml)*σy′))\n",
    "    \n",
    "    # stretched 2nd-derivative matrices\n",
    "    D2x = sqrtΣx * Dx' * Σx′ * Dx * sqrtΣx\n",
    "    D2y = sqrtΣy * Dy' * Σy′ * Dy * sqrtΣy\n",
    "    \n",
    "    # combine x and y with Kronecker products\n",
    "    Ix = spdiagm(ones(M))\n",
    "    Iy = spdiagm(ones(N))\n",
    "    x = x .- dpml\n",
    "    y = y .- dpml\n",
    "    return kron(Ix, D2y) + kron(D2x, Iy) .- ω^2 .* spdiagm(ε), x, y\n",
    "end"
   ]
  },
  {
   "cell_type": "code",
   "execution_count": 17,
   "id": "823602d7-5520-4e16-bb42-657b9b5cd54d",
   "metadata": {},
   "outputs": [],
   "source": [
    "# Our favorite parameters for testing\n",
    "# Re-run to randomize\n",
    "Lx = 20\n",
    "Ly = 20\n",
    "ε = rand(480, 480) .* 11 .+ 1\n",
    "δε = randn(size(ε)) * 1e-6\n",
    "ω = 2π\n",
    "δω = randn() * 1e-5\n",
    "\n",
    "A, x, y = Maxwell2d(Lx, Ly, ε, ω)\n",
    "new_ε_A, _, _ = Maxwell2d(Lx, Ly, ε + δε, ω)\n",
    "new_ω_A, _, _ = Maxwell2d(Lx, Ly, ε, ω + δω; ω_pml = ω)\n",
    "\n",
    "M, N = length(x), length(y)\n",
    "b = zeros(N, M)\n",
    "b[N÷2,M÷2] = 1;"
   ]
  },
  {
   "cell_type": "code",
   "execution_count": 18,
   "id": "fda28af6-9551-41c6-b76c-9de1165586b8",
   "metadata": {},
   "outputs": [
    {
     "name": "stdout",
     "output_type": "stream",
     "text": [
      "new_ε_LDOS - LDOS = -3.2819846070442776e-10\n"
     ]
    },
    {
     "data": {
      "text/plain": [
       "-3.281989660204339e-10"
      ]
     },
     "execution_count": 18,
     "metadata": {},
     "output_type": "execute_result"
    }
   ],
   "source": [
    "# Exact gradient of LDOS versus numerical gradient\n",
    "LDOS, ∇LDOS = ∇_ε_LDOS(A, ω, vec(b))\n",
    "new_ε_LDOS, _ = ∇_ε_LDOS(new_ε_A, ω, vec(b))\n",
    "\n",
    "@show new_ε_LDOS - LDOS\n",
    "∇LDOS' * vec(δε)"
   ]
  },
  {
   "cell_type": "code",
   "execution_count": 19,
   "id": "4ea62cf3-3178-4e2a-a879-4375f0c1b725",
   "metadata": {},
   "outputs": [
    {
     "name": "stdout",
     "output_type": "stream",
     "text": [
      "real(new_val) - real(val) = 3.3241853714116587e-9\n"
     ]
    },
    {
     "data": {
      "text/plain": [
       "3.324199969935121e-9"
      ]
     },
     "execution_count": 19,
     "metadata": {},
     "output_type": "execute_result"
    }
   ],
   "source": [
    "# Exact gradient of eigenvalue versus numerical gradient\n",
    "val, gradient = Eigengradient(A, vec(ε), ω, vec(b))\n",
    "new_val, _ = Eigengradient(new_ε_A, vec(ε + δε), ω, vec(b))\n",
    "@show real(new_val) - real(val)\n",
    "dot(vec(δε), real(gradient))"
   ]
  },
  {
   "cell_type": "code",
   "execution_count": 20,
   "id": "66f4b6fc-eac1-455b-a72b-bca5e4298b1e",
   "metadata": {},
   "outputs": [
    {
     "name": "stdout",
     "output_type": "stream",
     "text": [
      "new_ω_LDOS - LDOS = -3.0626308103508595e-8\n"
     ]
    },
    {
     "data": {
      "text/plain": [
       "-3.044647273423967e-8"
      ]
     },
     "execution_count": 20,
     "metadata": {},
     "output_type": "execute_result"
    }
   ],
   "source": [
    "# Exact gradient of LDOS versus Richardson extrapolation\n",
    "∇LDOS = ∇_ω_LDOS(A, vec(ε), ω, vec(b))\n",
    "new_ω_LDOS, _ = ∇_ε_LDOS(new_ω_A, ω, vec(b))\n",
    "@show new_ω_LDOS - LDOS\n",
    "∇LDOS[1]' * real(δω)"
   ]
  },
  {
   "cell_type": "code",
   "execution_count": 22,
   "id": "a66d485b-8cc0-4123-ae46-17c0f423c803",
   "metadata": {},
   "outputs": [
    {
     "name": "stdout",
     "output_type": "stream",
     "text": [
      "true_new_LDOS - true_LDOS = -1.563792030980296e-10\n"
     ]
    },
    {
     "data": {
      "text/plain": [
       "-1.563792208879467e-10"
      ]
     },
     "execution_count": 22,
     "metadata": {},
     "output_type": "execute_result"
    }
   ],
   "source": [
    "ω₀, ∂ω_∂ε = Eigengradient(A, vec(ε), ω, vec(b))\n",
    "A₀, _, _ = Maxwell2d(Lx, Ly, vec(ε), real(ω₀); ω_pml=ω)\n",
    "true_LDOS, ∂LDOS_∂ε = ∇_ε_LDOS(A₀, real(ω₀), vec(b))\n",
    "∂LDOS_∂ω = ∇_ω_LDOS(A₀, vec(ε), real(ω₀), vec(b))\n",
    "\n",
    "new_ω₀, _ = Eigengradient(new_ε_A, vec(ε + δε), ω, vec(b))\n",
    "new_A₀, _, _ = Maxwell2d(Lx, Ly, ε + δε, real(new_ω₀); ω_pml=ω)\n",
    "true_new_LDOS, _ = ∇_ε_LDOS(new_A₀, real(new_ω₀), vec(b))\n",
    "\n",
    "true_∇LDOS = ∂LDOS_∂ε .+  ∂LDOS_∂ω .* real.(∂ω_∂ε)\n",
    "\n",
    "@show true_new_LDOS - true_LDOS\n",
    "true_∇LDOS' * vec(δε)"
   ]
  }
 ],
 "metadata": {
  "kernelspec": {
   "display_name": "Julia 1.10.4",
   "language": "julia",
   "name": "julia-1.10"
  },
  "language_info": {
   "file_extension": ".jl",
   "mimetype": "application/julia",
   "name": "julia",
   "version": "1.10.4"
  }
 },
 "nbformat": 4,
 "nbformat_minor": 5
}
