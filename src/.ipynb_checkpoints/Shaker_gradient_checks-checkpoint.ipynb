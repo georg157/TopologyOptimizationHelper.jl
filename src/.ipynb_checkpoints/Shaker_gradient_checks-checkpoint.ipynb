{
 "cells": [
  {
   "cell_type": "code",
   "execution_count": 19,
   "id": "b7165ed2-649c-4818-b99c-47c230665ee4",
   "metadata": {},
   "outputs": [],
   "source": [
    "using SparseArrays\n",
    "using LinearAlgebra\n",
    "using NLopt\n",
    "using PyPlot\n",
    "using KrylovKit\n",
    "using FiniteDifferences\n",
    "using TopologyOptimizationHelper"
   ]
  },
  {
   "cell_type": "code",
   "execution_count": 20,
   "id": "15034c97-1601-4215-834b-cfa106c30441",
   "metadata": {},
   "outputs": [],
   "source": [
    "# Our favorite parameters for testing\n",
    "# Re-run to randomize\n",
    "L = 20\n",
    "ε = rand(480) .* 11 .+ 1\n",
    "δε = randn(length(ε)) * 1e-6\n",
    "ω = 2π\n",
    "δω = randn() * 1e-6\n",
    "\n",
    "A, x = Maxwell1d(L, ε, ω)\n",
    "new_ε_A, _ = Maxwell1d(L, ε + δε, ω)\n",
    "new_ω_A, _ = Maxwell1d(L, ε, ω + δω; ω_pml = ω)\n",
    "\n",
    "M = length(x)\n",
    "b = zeros(M)\n",
    "b[M÷2] = 1;"
   ]
  },
  {
   "cell_type": "code",
   "execution_count": 21,
   "id": "5d44bbd4-e561-4ddc-bcef-24645c5c661f",
   "metadata": {},
   "outputs": [
    {
     "name": "stdout",
     "output_type": "stream",
     "text": [
      "new_ε_LDOS - LDOS = 9.943945844597898e-11\n"
     ]
    },
    {
     "data": {
      "text/plain": [
       "9.943888465482635e-11"
      ]
     },
     "execution_count": 21,
     "metadata": {},
     "output_type": "execute_result"
    }
   ],
   "source": [
    "# Exact gradient of LDOS versus numerical gradient\n",
    "LDOS, ∇LDOS = ∇_ε_LDOS(A, b, ω)\n",
    "new_ε_LDOS, _ = ∇_ε_LDOS(new_ε_A, b, ω)\n",
    "\n",
    "@show new_ε_LDOS - LDOS\n",
    "∇LDOS' * δε"
   ]
  },
  {
   "cell_type": "code",
   "execution_count": 22,
   "id": "e6f2090a-345b-46e7-9028-effb7f62c2f7",
   "metadata": {},
   "outputs": [
    {
     "name": "stdout",
     "output_type": "stream",
     "text": [
      "sqrt(new_val) - sqrt(val) = -4.400757447342585e-8 - 1.8750790590355004e-10im\n",
      "dot(δε, gradient) = -4.400755837115259e-8 - 1.8750753033204089e-10im\n",
      "(extrapolate_fdm(central_fdm(2, 1), f, 0))[1] = -0.03241138949108574 - 9.685903262702391e-6im\n"
     ]
    },
    {
     "data": {
      "text/plain": [
       "-0.032411389492908074 - 9.685903260545046e-6im"
      ]
     },
     "execution_count": 22,
     "metadata": {},
     "output_type": "execute_result"
    }
   ],
   "source": [
    "# Exact gradient of eigenvalue versus numerical gradient\n",
    "val, _ = Arnoldi_eig(A, ε, ω, b)\n",
    "new_val, _ = Arnoldi_eig(new_ε_A, ε + δε, ω, b)\n",
    "gradient = Eigengradient(A, ε, ω, b)\n",
    "@show sqrt(new_val) - sqrt(val)\n",
    "@show dot(δε, gradient)\n",
    "\n",
    "# Exact gradient of eigenvalue versus Richardson extrapolation\n",
    "dir = randn(length(ε))\n",
    "f = α -> Maxwell_omega(L, ε + α * dir, ω, b)\n",
    "@show extrapolate_fdm(central_fdm(2, 1), f, 0)[1]\n",
    "dir' * gradient"
   ]
  },
  {
   "cell_type": "code",
   "execution_count": 24,
   "id": "a5287f35-8d2b-41b2-9d72-2895285e3473",
   "metadata": {},
   "outputs": [
    {
     "name": "stdout",
     "output_type": "stream",
     "text": [
      "new_ω_LDOS - LDOS = 9.585592845105226e-10\n"
     ]
    },
    {
     "data": {
      "text/plain": [
       "1×1 adjoint(::Vector{Float64}) with eltype Float64:\n",
       " 9.584730727679915e-10"
      ]
     },
     "execution_count": 24,
     "metadata": {},
     "output_type": "execute_result"
    }
   ],
   "source": [
    "# Exact gradient of LDOS versus Richardson extrapolation\n",
    "∇LDOS = ∇_ω_LDOS(A, b, ε, ω)\n",
    "new_ω_LDOS, _ = ∇_ε_LDOS(new_ω_A, b, ω)\n",
    "@show new_ω_LDOS - LDOS\n",
    "∇LDOS' * real(δω)"
   ]
  },
  {
   "cell_type": "code",
   "execution_count": 25,
   "id": "f1decc8f-b75d-4e9b-9827-605ff32bd267",
   "metadata": {},
   "outputs": [
    {
     "name": "stdout",
     "output_type": "stream",
     "text": [
      "true_new_LDOS - true_LDOS = -3.464138663922256e-6\n"
     ]
    },
    {
     "data": {
      "text/plain": [
       "-3.4641456909154774e-6"
      ]
     },
     "execution_count": 25,
     "metadata": {},
     "output_type": "execute_result"
    }
   ],
   "source": [
    "ω₀ = Maxwell_omega(L, ε, ω, b)\n",
    "A₀, _ = Maxwell1d(L, ε, real(ω₀); ω_pml=ω)\n",
    "true_LDOS, true_∇LDOS = Improved_∇_ε_LDOS(A₀, ε, real(ω₀), b; ω_pml=ω)\n",
    "true_new_LDOS =  Just_Improved_LDOS(L, ε + δε, ω, b)\n",
    "\n",
    "@show true_new_LDOS - true_LDOS\n",
    "true_∇LDOS' * δε"
   ]
  },
  {
   "cell_type": "code",
   "execution_count": 10,
   "id": "57985f5e-4d5b-403e-a4ee-ac2d4abc5886",
   "metadata": {},
   "outputs": [
    {
     "name": "stdout",
     "output_type": "stream",
     "text": [
      "extrapolate_fdm(central_fdm(2, 1), f, 0) = (10.095770022216387, 2.659099607171811e-10)\n"
     ]
    },
    {
     "data": {
      "text/plain": [
       "10.095770021877835"
      ]
     },
     "execution_count": 10,
     "metadata": {},
     "output_type": "execute_result"
    }
   ],
   "source": [
    "dir = randn(length(ε))\n",
    "\n",
    "f = α -> Just_Improved_LDOS(L, ε + α * dir, ω, b)\n",
    "@show extrapolate_fdm(central_fdm(2, 1), f, 0)\n",
    "dir' * true_∇LDOS"
   ]
  },
  {
   "cell_type": "code",
   "execution_count": 50,
   "id": "9194ee0f-f3d9-44ed-a662-caa85082aaa7",
   "metadata": {},
   "outputs": [
    {
     "name": "stdout",
     "output_type": "stream",
     "text": [
      "\u001b[0m\u001b[1mTest Summary:                 | \u001b[22m\u001b[32m\u001b[1mPass  \u001b[22m\u001b[39m\u001b[36m\u001b[1mTotal  \u001b[22m\u001b[39m\u001b[0m\u001b[1mTime\u001b[22m\n",
      "TopologyOptimizationHelper.jl | \u001b[32m   6  \u001b[39m\u001b[36m    6  \u001b[39m\u001b[0m0.2s\n"
     ]
    },
    {
     "data": {
      "text/plain": [
       "Test.DefaultTestSet(\"TopologyOptimizationHelper.jl\", Any[], 6, false, false, true, 1.722021404159e9, 1.722021404403e9, false, \"In[50]\")"
      ]
     },
     "execution_count": 50,
     "metadata": {},
     "output_type": "execute_result"
    }
   ],
   "source": [
    "using SparseArrays\n",
    "using LinearAlgebra\n",
    "using NLopt\n",
    "using PyPlot\n",
    "using KrylovKit\n",
    "using FiniteDifferences\n",
    "using TopologyOptimizationHelper\n",
    "using Test\n",
    "\n",
    "@testset \"TopologyOptimizationHelper.jl\" begin\n",
    "    # Initialize parameters for testing\n",
    "    L = 20\n",
    "    ε = rand(480) .* 11 .+ 1\n",
    "    δε = randn(length(ε)) * 1e-6\n",
    "    ω = 2π\n",
    "    δω = randn() * 1e-6\n",
    "    dir = randn(length(ε))\n",
    "\n",
    "    A, x = Maxwell1d(L, ε, ω)\n",
    "    new_ε_A, _ = Maxwell1d(L, ε + δε, ω)\n",
    "    new_ω_A, _ = Maxwell1d(L, ε, ω + δω; ω_pml = ω)\n",
    "\n",
    "    M = length(x)\n",
    "    b = zeros(M)\n",
    "    b[M÷2] = 1\n",
    "\n",
    "\n",
    "    # Gradient of LDOS w.r.t. ε\n",
    "    ## Exact gradient versus numerical gradient\n",
    "    LDOS, ∇LDOS = ∇_ε_LDOS(A, b, ω)\n",
    "    new_ε_LDOS, _ = ∇_ε_LDOS(new_ε_A, b, ω)\n",
    "    @test new_ε_LDOS - LDOS ≈ ∇LDOS' * δε atol=1e-10\n",
    "\n",
    "\n",
    "    # Gradient of eigenvalue w.r.t. ε\n",
    "    ## Exact gradient versus numerical gradient\n",
    "    val, _ = Arnoldi_eig(A, ε, ω, b)\n",
    "    new_val, _ = Arnoldi_eig(new_ε_A, ε + δε, ω, b)\n",
    "    gradient = Eigengradient(A, ε, ω, b)\n",
    "    @test sqrt(new_val) - sqrt(val) ≈ dot(δε, gradient) atol=1e-10\n",
    "\n",
    "    ## Exact gradient versus Richardson extrapolation\n",
    "    f = α -> Maxwell_omega(L, ε + α * dir, ω, b)\n",
    "    @test extrapolate_fdm(central_fdm(2, 1), f, 0)[1] ≈ dir' * gradient atol=1e-10\n",
    "\n",
    "\n",
    "    # Gradient of LDOS w.r.t. ω \n",
    "    ## Exact gradient versus numerical gradient\n",
    "    ∇LDOS = ∇_ω_LDOS(A, b, ε, ω)\n",
    "    new_ω_LDOS, _ = ∇_ε_LDOS(new_ω_A, b, ω)\n",
    "    @test new_ω_LDOS - LDOS ≈ ∇LDOS[1] * real(δω) atol=1e-10\n",
    "\n",
    "\n",
    "    # Improved gradient of LDOS w.r.t. ε\n",
    "    ## Exact gradient versus numerical gradient\n",
    "    ω₀ = Maxwell_omega(L, ε, ω, b)\n",
    "    A₀, _ = Maxwell1d(L, ε, real(ω₀); ω_pml=ω)\n",
    "    true_LDOS, true_∇LDOS = Improved_∇_ε_LDOS(A₀, ε, real(ω₀), b; ω_pml=ω)\n",
    "    true_new_LDOS =  Just_Improved_LDOS(L, ε + δε, ω, b)\n",
    "    @test true_new_LDOS - true_LDOS ≈ true_∇LDOS' * δε atol=1e-10\n",
    "\n",
    "    ## Exact gradient versus Richardson extrapolation\n",
    "    f = α -> Just_Improved_LDOS(L, ε + α * dir, ω, b)\n",
    "    @test extrapolate_fdm(central_fdm(2, 1), f, 0)[1] ≈ dir' * true_∇LDOS atol=1e-10\n",
    "\n",
    "end"
   ]
  },
  {
   "cell_type": "code",
   "execution_count": 36,
   "id": "456ff1fd-c61f-4d58-bb4a-c3a47d1d3aed",
   "metadata": {},
   "outputs": [
    {
     "data": {
      "text/plain": [
       "true"
      ]
     },
     "execution_count": 36,
     "metadata": {},
     "output_type": "execute_result"
    }
   ],
   "source": [
    "extrapolate_fdm(central_fdm(2, 1), f, 0)[1] ≈ dir' * true_∇LDOS"
   ]
  },
  {
   "cell_type": "code",
   "execution_count": null,
   "id": "bde0cd6a-68aa-48e7-be66-7a8d8fecc64d",
   "metadata": {},
   "outputs": [],
   "source": []
  }
 ],
 "metadata": {
  "kernelspec": {
   "display_name": "Julia 1.10.4",
   "language": "julia",
   "name": "julia-1.10"
  },
  "language_info": {
   "file_extension": ".jl",
   "mimetype": "application/julia",
   "name": "julia",
   "version": "1.10.4"
  }
 },
 "nbformat": 4,
 "nbformat_minor": 5
}
