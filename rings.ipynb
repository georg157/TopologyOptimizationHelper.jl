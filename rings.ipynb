{
 "cells": [
  {
   "cell_type": "code",
   "execution_count": 2,
   "id": "97f7ef1a-e91f-4390-a50e-ca9bed51824d",
   "metadata": {},
   "outputs": [
    {
     "name": "stderr",
     "output_type": "stream",
     "text": [
      "\u001b[33m\u001b[1m┌ \u001b[22m\u001b[39m\u001b[33m\u001b[1mWarning: \u001b[22m\u001b[39mThe project dependencies or compat requirements have changed since the manifest was last resolved.\n",
      "\u001b[33m\u001b[1m│ \u001b[22m\u001b[39mIt is recommended to `Pkg.resolve()` or consider `Pkg.update()` if necessary.\n",
      "\u001b[33m\u001b[1m└ \u001b[22m\u001b[39m\u001b[90m@ Pkg.API C:\\Users\\jorge\\.julia\\juliaup\\julia-1.10.4+0.x64.w64.mingw32\\share\\julia\\stdlib\\v1.10\\Pkg\\src\\API.jl:1807\u001b[39m\n",
      "\u001b[36m\u001b[1m[ \u001b[22m\u001b[39m\u001b[36m\u001b[1mInfo: \u001b[22m\u001b[39mPrecompiling Plots [91a5bcdd-55d7-5caf-9e0b-520d859cae80]\n",
      "GKS: cairoplugin.dll: can't load library, error 126 (0x7e)\n",
      "\u001b[33m\u001b[1m┌ \u001b[22m\u001b[39m\u001b[33m\u001b[1mWarning: \u001b[22m\u001b[39mThe project dependencies or compat requirements have changed since the manifest was last resolved.\n",
      "\u001b[33m\u001b[1m│ \u001b[22m\u001b[39mIt is recommended to `Pkg.resolve()` or consider `Pkg.update()` if necessary.\n",
      "\u001b[33m\u001b[1m└ \u001b[22m\u001b[39m\u001b[90m@ Pkg.API C:\\Users\\jorge\\.julia\\juliaup\\julia-1.10.4+0.x64.w64.mingw32\\share\\julia\\stdlib\\v1.10\\Pkg\\src\\API.jl:1807\u001b[39m\n",
      "\u001b[36m\u001b[1m[ \u001b[22m\u001b[39m\u001b[36m\u001b[1mInfo: \u001b[22m\u001b[39mPrecompiling IJuliaExt [2f4121a4-3b3a-5ce6-9c5e-1f2673ce168a]\n",
      "\u001b[33m\u001b[1m┌ \u001b[22m\u001b[39m\u001b[33m\u001b[1mWarning: \u001b[22m\u001b[39mThe project dependencies or compat requirements have changed since the manifest was last resolved.\n",
      "\u001b[33m\u001b[1m│ \u001b[22m\u001b[39mIt is recommended to `Pkg.resolve()` or consider `Pkg.update()` if necessary.\n",
      "\u001b[33m\u001b[1m└ \u001b[22m\u001b[39m\u001b[90m@ Pkg.API C:\\Users\\jorge\\.julia\\juliaup\\julia-1.10.4+0.x64.w64.mingw32\\share\\julia\\stdlib\\v1.10\\Pkg\\src\\API.jl:1807\u001b[39m\n",
      "\u001b[36m\u001b[1m[ \u001b[22m\u001b[39m\u001b[36m\u001b[1mInfo: \u001b[22m\u001b[39mPrecompiling Images [916415d5-f1e6-5110-898d-aaa5f9f070e0]\n",
      "\u001b[33m\u001b[1m┌ \u001b[22m\u001b[39m\u001b[33m\u001b[1mWarning: \u001b[22m\u001b[39mThe project dependencies or compat requirements have changed since the manifest was last resolved.\n",
      "\u001b[33m\u001b[1m│ \u001b[22m\u001b[39mIt is recommended to `Pkg.resolve()` or consider `Pkg.update()` if necessary.\n",
      "\u001b[33m\u001b[1m└ \u001b[22m\u001b[39m\u001b[90m@ Pkg.API C:\\Users\\jorge\\.julia\\juliaup\\julia-1.10.4+0.x64.w64.mingw32\\share\\julia\\stdlib\\v1.10\\Pkg\\src\\API.jl:1807\u001b[39m\n",
      "\u001b[36m\u001b[1m[ \u001b[22m\u001b[39m\u001b[36m\u001b[1mInfo: \u001b[22m\u001b[39mPrecompiling FileIOExt [f5f51d8f-5827-5d2e-939b-192fcd6ec70c]\n",
      "\u001b[33m\u001b[1m┌ \u001b[22m\u001b[39m\u001b[33m\u001b[1mWarning: \u001b[22m\u001b[39mThe project dependencies or compat requirements have changed since the manifest was last resolved.\n",
      "\u001b[33m\u001b[1m│ \u001b[22m\u001b[39mIt is recommended to `Pkg.resolve()` or consider `Pkg.update()` if necessary.\n",
      "\u001b[33m\u001b[1m└ \u001b[22m\u001b[39m\u001b[90m@ Pkg.API C:\\Users\\jorge\\.julia\\juliaup\\julia-1.10.4+0.x64.w64.mingw32\\share\\julia\\stdlib\\v1.10\\Pkg\\src\\API.jl:1807\u001b[39m\n",
      "\u001b[32m\u001b[1mPrecompiling\u001b[22m\u001b[39m TopologyOptimizationHelper\n",
      "\u001b[32m  ✓ \u001b[39mTopologyOptimizationHelper\n",
      "  1 dependency successfully precompiled in 6 seconds. 39 already precompiled.\n"
     ]
    }
   ],
   "source": [
    "using SparseArrays\n",
    "using LinearAlgebra\n",
    "using NLopt\n",
    "using PyPlot\n",
    "using KrylovKit\n",
    "using Statistics\n",
    "using FiniteDifferences\n",
    "using Revise\n",
    "using IJulia\n",
    "using Plots\n",
    "using Images\n",
    "using TopologyOptimizationHelper"
   ]
  },
  {
   "cell_type": "code",
   "execution_count": 3,
   "id": "4b381fbf-c61b-4066-9961-c499afc1624f",
   "metadata": {},
   "outputs": [
    {
     "name": "stdout",
     "output_type": "stream",
     "text": [
      "offset = -(round(Int, res * (0.1 + 3 / 2))) = -32\n"
     ]
    }
   ],
   "source": [
    "Lx = 5\n",
    "Ly = 5\n",
    "res = 20\n",
    "ε = ones(res * (Ly + 1), res * (Lx + 1))\n",
    "ω = 2π\n",
    "@show offset = -round(Int, res * (0.1 + 3/2))\n",
    "N, M = size(ε)\n",
    "b = zeros(N, M)\n",
    "b[N÷2 + offset, M÷2] = 1;"
   ]
  },
  {
   "cell_type": "code",
   "execution_count": 4,
   "id": "b021f85b-61bd-4b58-b7f7-e3d963cf2bec",
   "metadata": {},
   "outputs": [
    {
     "data": {
      "text/plain": [
       "LDOS_Optimize2d (generic function with 1 method)"
      ]
     },
     "execution_count": 4,
     "metadata": {},
     "output_type": "execute_result"
    }
   ],
   "source": [
    "function LDOS_Optimize2d(Lx, Ly, ε, ω, b; dpml=0.5, resolution=20, Rpml=1e-20, ftol=1e-4, max_eval=500, design_dimensions=(Lx, Ly), α=0)\n",
    "    A, x, y = Maxwell2d(Lx, Ly, ε, ω; dpml, resolution, Rpml)\n",
    "    ε = vec(ε)\n",
    "    b = vec(b)\n",
    "    D² = A + spdiagm(ω^2 .* ε)\n",
    "    M, N = length(x), length(y)\n",
    "    LDOS_vals = Float64[]\n",
    "    omegas = ComplexF64[]\n",
    "    \n",
    "    function LDOS_obj(ε, grad)\n",
    "        ε = vec(ε)\n",
    "        A = D² - spdiagm(ω^2 .* ε .* (1 + α * im))\n",
    "        LDOS, ∇LDOS = ∇_ε_LDOS(A, ω, b; α)\n",
    "        grad .= ∇LDOS\n",
    "        push!(LDOS_vals, LDOS)\n",
    "\n",
    "        IJulia.clear_output(true)  # Clear notebook output\n",
    "        plt.clf()  # Clear the current figure, removes all previous plots\n",
    "        \n",
    "        figure(figsize=(6, 6))  # Fix the figure size to avoid shrinking\n",
    "        imshow(reshape(ε, N,M), cmap=\"coolwarm\", vmin=1, vmax=12)\n",
    "        title(\"Iteration $(length(LDOS_vals)), LDOS = $LDOS\")\n",
    "        colorbar(label=L\"ε_{opt}\")\n",
    "\n",
    "        display(gcf())  # Display the current figure in the notebook\n",
    "        sleep(0.1)  # Pause to visualize the update\n",
    "\n",
    "        A_now, _, _ = Maxwell2d(Lx, Ly, reshape(ε, N,M), ω; resolution=res)\n",
    "        ω₀_now = sqrt(Arnoldi_eig(A_now, vec(ε), ω, vec(b))[1])\n",
    "        push!(omegas, ω₀_now)\n",
    "        return LDOS\n",
    "    end\n",
    "\n",
    "    design_x, design_y = design_dimensions\n",
    "    x_indices = -design_x / 2 .< x .- mean(x) .< design_x / 2\n",
    "    y_indices = -design_y / 2 .< y .- mean(y) .< design_y / 2\n",
    "    ub = ones(N,M)\n",
    "    ub[y_indices, x_indices] .= 12\n",
    "    ub = vec(ub)\n",
    "    \n",
    "    opt = Opt(:LD_CCSAQ, M * N)\n",
    "    opt.lower_bounds = 1\n",
    "    opt.upper_bounds = ub\n",
    "    opt.ftol_rel = ftol\n",
    "    opt.maxeval = max_eval\n",
    "    opt.max_objective = LDOS_obj\n",
    "\n",
    "    (LDOS_opt, ε_opt, ret) = optimize(opt, ε)\n",
    "    A_opt, _, _ = Maxwell2d(Lx, Ly, ε_opt, ω; resolution=res)\n",
    "    ω₀_opt = sqrt(Arnoldi_eig(A_opt, vec(ε_opt), ω, vec(b))[1])\n",
    "    Q_opt = -real(ω₀_opt) / 2imag(ω₀_opt)\n",
    "    \n",
    "    IJulia.clear_output(true)  # Clear notebook output\n",
    "    plt.clf()  # Clear the current figure, removes all previous plots\n",
    "\n",
    "    @show numevals = opt.numevals # the number of function evaluations\n",
    "    @show ω₀_opt\n",
    "    @show Q_opt\n",
    "    \n",
    "    return LDOS_opt, reshape(ε_opt, N,M), LDOS_vals, omegas, x, y\n",
    "end"
   ]
  },
  {
   "cell_type": "code",
   "execution_count": 5,
   "id": "8bd6a11f-0479-43a6-beba-7f9d33a3e330",
   "metadata": {},
   "outputs": [
    {
     "data": {
      "text/plain": [
       "mod_LDOS_Optimize2d (generic function with 1 method)"
      ]
     },
     "execution_count": 5,
     "metadata": {},
     "output_type": "execute_result"
    }
   ],
   "source": [
    "function mod_LDOS_Optimize2d(Lx, Ly, ε, ω, b, x₀; dpml=0.5, resolution=20, Rpml=1e-20, ftol=1e-4, max_eval=500, design_dimensions=(Lx,Ly))\n",
    "    A, x, y = Maxwell2d(Lx, Ly, ε, ω; dpml, resolution, Rpml)\n",
    "    ε = vec(ε)\n",
    "    b = vec(b)\n",
    "    D² = A + ω^2 .* spdiagm(ε)\n",
    "    M, N = length(x), length(y)\n",
    "    mod_LDOS_vals = Float64[]\n",
    "    mod_omegas = ComplexF64[]\n",
    "    ω_old = ω\n",
    "    u_old = ones(M * N)\n",
    "    LDOS_old = ∇_ε_LDOS(A, ω, vec(b))[1]\n",
    "    \n",
    "    function mod_LDOS_obj(ε, grad)\n",
    "        ε = vec(ε)\n",
    "        E = spdiagm(ε)\n",
    "        A = D² - real(ω_old)^2 .* E\n",
    "        E⁻¹ = spdiagm(1 ./ ε)\n",
    "        C = E⁻¹ * A\n",
    "        LU = lu(C)\n",
    "        vals, vecs, _ = eigsolve(z -> LU \\ z, x₀, 1, :LM, Arnoldi())\n",
    "        vals = sqrt.(1 ./ vals .+ real(ω_old)^2)\n",
    "        # We could also just have * done here every time\n",
    "        # Pros: outperforms old scheme (and this one)\n",
    "        # Cons: monotonically decreases on some intervals\n",
    "        ω₀, u₀ = vals[1], vecs[1]\n",
    "        A₀ = D² - real(ω₀)^2 .* E\n",
    "        v = A₀ \\ b\n",
    "        w = A₀' \\ b\n",
    "        LDOS = -imag(v' * b)\n",
    "        \n",
    "        reals = real.(vals)\n",
    "        imaginaries = imag.(vals)\n",
    "        if !isempty(grad) \n",
    "            ∂LDOS_∂ε = -imag.(real(ω₀)^2 .* conj.(v) .* w)\n",
    "            ∂LDOS_∂ω = -imag(2real(ω₀) .* v' * E * w)\n",
    "            ∂ω_∂ε = -ω₀ .* u₀.^2 ./ 2sum(u₀.^2 .* ε)\n",
    "            ∇LDOS = ∂LDOS_∂ε .+  ∂LDOS_∂ω .* real.(∂ω_∂ε)\n",
    "\n",
    "            grad .= ∇LDOS\n",
    "        end\n",
    "\n",
    "        push!(mod_LDOS_vals, LDOS)\n",
    "        push!(mod_omegas, ω₀)\n",
    "\n",
    "        IJulia.clear_output(true)  # Clear notebook output\n",
    "        plt.clf()  # Clear the current figure, removes all previous plots\n",
    "        \n",
    "        fig, ax = plt.subplots(1,2, figsize=(15, 5))  # Fix the figure size to avoid shrinking\n",
    "        ε_graph = ax[1].imshow(reshape(ε, N,M), cmap=\"coolwarm\", vmin=1, vmax=12)\n",
    "        ax[1].set_title(\"Iteration $(length(mod_LDOS_vals)), LDOS = $LDOS\")\n",
    "        plt.colorbar(ε_graph, label=L\"ε_{opt}\", ax=ax[1])\n",
    "\n",
    "        ax[2].scatter(reals[2:end], imaginaries[2:end], color=\"blue\")\n",
    "        ax[2].scatter(reals[1], imaginaries[1], color=\"red\")\n",
    "        ax[2].scatter(real(ω_old), imag(ω_old), color=\"green\")\n",
    "        ax[2].set_xlim(6,6.5)\n",
    "        ax[2].set_ylim(-0.5, 0.01)\n",
    "\n",
    "        display(gcf())  # Display the current figure in the notebook\n",
    "        sleep(0.1)  # Pause to visualize the update\n",
    "\n",
    "        return LDOS\n",
    "    end\n",
    "\n",
    "    function freq_constraint(ε, grad)\n",
    "        ω₀, ∂ω_∂ε = Eigengradient(A, ε, ω, x₀)\n",
    "        if !isempty(grad) \n",
    "            grad .= -real.(∂ω_∂ε)\n",
    "        end\n",
    "\n",
    "        return ω - real(ω₀)\n",
    "    end\n",
    "\n",
    "    design_x, design_y = design_dimensions\n",
    "    x_indices = -design_x / 2 .< x .- mean(x) .< design_x / 2\n",
    "    y_indices = -design_y / 2 .< y .- mean(y) .< design_y / 2\n",
    "    ub = ones(N,M)\n",
    "    ub[y_indices, x_indices] .= 12\n",
    "    ub = vec(ub)\n",
    "    \n",
    "    opt = Opt(:LD_CCSAQ, M * N)\n",
    "    # opt.params[\"verbosity\"] = 1\n",
    "    opt.lower_bounds = 1\n",
    "    opt.upper_bounds = ub\n",
    "    opt.ftol_rel = ftol\n",
    "    opt.maxeval = max_eval\n",
    "    opt.max_objective = mod_LDOS_obj\n",
    "    opt.initial_step = 1e-3\n",
    "    inequality_constraint!(opt, freq_constraint)\n",
    "\n",
    "    (mod_LDOS_opt, mod_ε_opt, ret) = optimize(opt, ε)\n",
    "    A_opt, _, _ = Maxwell2d(Lx, Ly, mod_ε_opt, ω; resolution=res)\n",
    "    ω₀_opt = sqrt(Arnoldi_eig(A_opt, vec(mod_ε_opt), ω, vec(b))[1])\n",
    "    Q_opt = -real(ω₀_opt) / 2imag(ω₀_opt)\n",
    "    \n",
    "    IJulia.clear_output(true)  # Clear notebook output\n",
    "    plt.clf()\n",
    "\n",
    "    @show numevals = opt.numevals # the number of function evaluations\n",
    "    @show ω₀_opt\n",
    "    @show Q_opt\n",
    "    \n",
    "    return mod_LDOS_opt, reshape(mod_ε_opt, N,M), mod_LDOS_vals, mod_omegas, x, y\n",
    "end"
   ]
  },
  {
   "cell_type": "code",
   "execution_count": 6,
   "id": "8456b9f3-4e28-41ef-96cb-405e58d42749",
   "metadata": {},
   "outputs": [
    {
     "data": {
      "text/plain": [
       "ring_resonator (generic function with 1 method)"
      ]
     },
     "execution_count": 6,
     "metadata": {},
     "output_type": "execute_result"
    }
   ],
   "source": [
    "function ring_resonator(X, inner, outer; resolution=20)\n",
    "    # Get matrix dimensions\n",
    "    N, M = size(X)\n",
    "    \n",
    "    # Compute the center of the matrix\n",
    "    center_y = N÷2\n",
    "    center_x = M÷2\n",
    "    \n",
    "    # Assign value to entries within the given radii\n",
    "    for i in 1:M\n",
    "        for j in 1:N\n",
    "            # Calculate the distance from the center, considering the resolution\n",
    "            square_dist = ((i - center_x) / res)^2 + ((j - center_y) / res)^2\n",
    "            if inner^2 <= square_dist <= outer^2\n",
    "                X[j, i] = 12\n",
    "            end\n",
    "        end\n",
    "    end\n",
    "    return X\n",
    "end"
   ]
  },
  {
   "cell_type": "code",
   "execution_count": 71,
   "id": "756c2c2d-3d04-4940-8992-d895bfe0a33a",
   "metadata": {},
   "outputs": [
    {
     "data": {
      "image/png": "[encoded data removed]",
      "text/plain": [
       "Figure(PyObject <Figure size 640x480 with 2 Axes>)"
      ]
     },
     "metadata": {},
     "output_type": "display_data"
    },
    {
     "data": {
      "text/plain": [
       "PyObject <matplotlib.colorbar.Colorbar object at 0x0000020A94F16AD0>"
      ]
     },
     "execution_count": 71,
     "metadata": {},
     "output_type": "execute_result"
    }
   ],
   "source": [
    "design_ring = ring_resonator(ones(N,M), 1.258984375, 1.5; resolution=res)\n",
    "imshow(design_ring, cmap=\"coolwarm\", vmin=1, vmax=12)\n",
    "colorbar(label=L\"ε_{opt}\")"
   ]
  },
  {
   "cell_type": "code",
   "execution_count": 72,
   "id": "7ed1cba6-1ab2-42d5-9480-a2a23e1007f5",
   "metadata": {},
   "outputs": [
    {
     "name": "stdout",
     "output_type": "stream",
     "text": [
      "ring_ω₀ = 6.260137693507353 - 8.175207780221053e-5im\n"
     ]
    },
    {
     "data": {
      "text/plain": [
       "6.260137693507353 - 8.175207780221053e-5im"
      ]
     },
     "execution_count": 72,
     "metadata": {},
     "output_type": "execute_result"
    }
   ],
   "source": [
    "A_resonator, x, y = Maxwell2d(Lx, Ly, design_ring, ω; resolution=res)\n",
    "ring_ω₀, _ = Eigengradient(A_resonator, vec(design_ring), ω, ones(N * M))\n",
    "@show ring_ω₀"
   ]
  },
  {
   "cell_type": "code",
   "execution_count": 73,
   "id": "d43e8a33-da7d-4b9a-b6e3-c1859870b1d3",
   "metadata": {},
   "outputs": [
    {
     "name": "stdout",
     "output_type": "stream",
     "text": [
      "ring_LDOS = -(imag((vec(b))' * w_ring)) = 0.0002955231089506742\n"
     ]
    },
    {
     "data": {
      "text/plain": [
       "38287.330804319216"
      ]
     },
     "execution_count": 73,
     "metadata": {},
     "output_type": "execute_result"
    }
   ],
   "source": [
    "w_ring = A_resonator' \\ vec(b)\n",
    "@show ring_LDOS = -imag(vec(b)' * w_ring)\n",
    "ring_Q = -real(ring_ω₀) / 2imag(ring_ω₀)"
   ]
  },
  {
   "cell_type": "code",
   "execution_count": 9,
   "id": "3324bd51-5f34-44af-9519-3f388541666d",
   "metadata": {},
   "outputs": [
    {
     "name": "stdout",
     "output_type": "stream",
     "text": [
      "numevals = opt.numevals = 15000\n",
      "ω₀_opt = 6.283185307371432 - 2.483093229702217e-8im\n",
      "Q_opt = 1.2651931937579602e8\n"
     ]
    },
    {
     "data": {
      "text/plain": [
       "(43.44549456859786, [1.0 1.0 … 1.0 1.0; 1.0 1.0 … 1.0 1.0; … ; 1.0 1.0 … 1.0 1.0; 1.0 1.0 … 1.0 1.0], [0.002567003838891125, 0.0003941275660668207, 0.00040257171279745475, 0.00040263398192443565, 0.00039782465350839575, 0.0003956052191277254, 0.0004961527520605191, 0.003385430358901667, 0.0024710113430788656, 0.01320978980225005  …  43.435545984422006, 43.43250275908933, 43.436916655009995, 43.333405506041, 43.43768912315155, 43.43857593976567, 43.439278255403174, 43.44549456859786, 24.589276417523628, 43.16460375049924], ComplexF64[6.282980445149519 - 8.327062568689475e-5im, 6.280010093858054 - 0.004782509507351119im, 6.269618111472296 - 0.004705791012818489im, 6.293240554771614 - 9.106422313870752e-5im, 6.287581298217694 - 8.656788389314073e-5im, 6.28501268733561 - 8.469182844373339e-5im, 6.283847692085917 - 8.387055171907802e-5im, 6.2833246506526 - 8.35075813656385e-5im, 6.2829743423312685 - 8.331179295146698e-5im, 6.283176556610118 - 8.345857713179442e-5im  …  6.283185307173755 - 2.483789879755724e-8im, 6.2831853075644295 - 2.4834072255316852e-8im, 6.283185307301082 - 2.483665086211683e-8im, 6.283185305975079 - 2.4836823140549132e-8im, 6.283185307168483 - 2.4836665327215797e-8im, 6.283185307290384 - 2.4835791193104253e-8im, 6.283185307223092 - 2.4835740161095196e-8im, 6.283185307371432 - 2.483093229702217e-8im, 6.283185285457652 - 2.4838062111386027e-8im, 6.283185305180518 - 2.4830807020971464e-8im], -0.45041322314049587:0.049586776859504134:5.450413223140496, -0.45041322314049587:0.049586776859504134:5.450413223140496)"
      ]
     },
     "execution_count": 9,
     "metadata": {},
     "output_type": "execute_result"
    }
   ],
   "source": [
    "_, ε_opt_naive, LDOS_vals_naive, omegas_naive, _, _ = LDOS_Optimize2d(Lx, Ly, design_ring, ω, b; resolution=res, max_eval=15000, ftol=0, α=0, design_dimensions=(3.05,3.05))"
   ]
  },
  {
   "cell_type": "code",
   "execution_count": 10,
   "id": "bf4f7e08-89a4-4cf9-8bfd-c790c0991dab",
   "metadata": {},
   "outputs": [
    {
     "data": {
      "image/png": "[encoded data removed]",
      "text/plain": [
       "Figure(PyObject <Figure size 640x480 with 2 Axes>)"
      ]
     },
     "metadata": {},
     "output_type": "display_data"
    },
    {
     "data": {
      "text/plain": [
       "PyObject <matplotlib.colorbar.Colorbar object at 0x000001ACB3FC9B10>"
      ]
     },
     "execution_count": 10,
     "metadata": {},
     "output_type": "execute_result"
    }
   ],
   "source": [
    "imshow(ε_opt_naive, cmap=\"coolwarm\", vmin=1, vmax=12)\n",
    "colorbar(label=L\"Naive ε_{opt}\")"
   ]
  },
  {
   "cell_type": "code",
   "execution_count": null,
   "id": "1733710d-87af-4821-8b16-7e955673b904",
   "metadata": {},
   "outputs": [
    {
     "data": {
      "image/png": "[encoded data removed]",
      "text/plain": [
       "Figure(PyObject <Figure size 1500x500 with 3 Axes>)"
      ]
     },
     "metadata": {},
     "output_type": "display_data"
    }
   ],
   "source": [
    "_, ε_opt_mod, LDOS_vals_mod, omegas_mod, _, _ = mod_LDOS_Optimize2d(Lx, Ly, design_ring, ω, b, vec(b); resolution=res, max_eval=15000, ftol=0, design_dimensions=(3.05,3.05))"
   ]
  },
  {
   "cell_type": "code",
   "execution_count": null,
   "id": "3fcb731f-5b6a-4bc0-b1bf-20f53a844d50",
   "metadata": {},
   "outputs": [],
   "source": [
    "imshow(ε_opt_mod, cmap=\"coolwarm\", vmin=1, vmax=12)\n",
    "colorbar(label=L\"Mod ε_{opt} (3,000 iterations)\")"
   ]
  },
  {
   "cell_type": "code",
   "execution_count": null,
   "id": "c22bec37-22e0-4877-91b1-a2e2e7b903d2",
   "metadata": {},
   "outputs": [],
   "source": [
    "#LDOS plots\n",
    "\n",
    "plot(LDOS_vals_naive, color=\"red\")\n",
    "plot(LDOS_vals_mod, color=\"blue\")"
   ]
  },
  {
   "cell_type": "code",
   "execution_count": null,
   "id": "54b4ff4d-d6bf-4fd2-9190-29c1633637f8",
   "metadata": {},
   "outputs": [],
   "source": [
    "#Q plots\n",
    "naive_Qs = -real.(omegas_naive) ./ 2imag.(omegas_naive)\n",
    "mod_Qs = -real.(omegas_mod) ./ 2imag.(omegas_mod)\n",
    "\n",
    "plot(naive_Qs, color=\"red\")\n",
    "plot(mod_Qs, color=\"blue\")"
   ]
  },
  {
   "cell_type": "code",
   "execution_count": null,
   "id": "dfb2fcf4-898a-422f-bb48-7c1faac42ab9",
   "metadata": {},
   "outputs": [],
   "source": []
  }
 ],
 "metadata": {
  "kernelspec": {
   "display_name": "Julia 1.10.4",
   "language": "julia",
   "name": "julia-1.10"
  },
  "language_info": {
   "file_extension": ".jl",
   "mimetype": "application/julia",
   "name": "julia",
   "version": "1.10.4"
  }
 },
 "nbformat": 4,
 "nbformat_minor": 5
}
