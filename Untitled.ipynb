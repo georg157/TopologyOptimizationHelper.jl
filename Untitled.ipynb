{
 "cells": [
  {
   "cell_type": "code",
   "execution_count": null,
   "id": "26a46071-b78d-4ca3-bedd-efe2fa53ae7d",
   "metadata": {},
   "outputs": [],
   "source": [
    "using SparseArrays\n",
    "using LinearAlgebra\n",
    "using NLopt\n",
    "using PyPlot\n",
    "using KrylovKit\n",
    "using FiniteDifferences\n",
    "using TopologyOptimizationHelper"
   ]
  },
  {
   "cell_type": "code",
   "execution_count": null,
   "id": "788d22a9-88b0-4d28-9ece-adda8f5de183",
   "metadata": {},
   "outputs": [],
   "source": [
    "# Our favored parameters for testing\n",
    "# Run to recompute random variables\n",
    "L = 20\n",
    "ε = rand(480) .* 11 .+ 1\n",
    "δε = randn(480) * 1e-6\n",
    "ω = 2π\n",
    "\n",
    "A, x = Maxwell1d(L, ε, ω)\n",
    "new_A, _ = Maxwell1d(L, ε + δε, ω)\n",
    "\n",
    "M = length(x)\n",
    "b = zeros(M)\n",
    "b[M÷2] = 1;"
   ]
  },
  {
   "cell_type": "code",
   "execution_count": null,
   "id": "467fb5ec-512e-4c6e-8467-5e32f127bcff",
   "metadata": {},
   "outputs": [],
   "source": [
    "# Exact ∇_ε_LDOS versus numerical gradient\n",
    "LDOS, ∇LDOS = ∇_ε_LDOS(A, b, ω)\n",
    "new_LDOS, _ = ∇_ε_LDOS(new_A, b, ω)\n",
    "\n",
    "@show new_LDOS - LDOS\n",
    "∇LDOS' * δε"
   ]
  },
  {
   "cell_type": "code",
   "execution_count": null,
   "id": "58593b00-30e6-41cf-a292-0dc1ce97b7f9",
   "metadata": {},
   "outputs": [],
   "source": [
    "# Exact gradient of ω₀ w.r.t. ε versus numerical gradient\n",
    "val, _ = Arnoldi_eig(A, ε, ω, b)\n",
    "new_val, _ = Arnoldi_eig(new_A, ε + δε, ω, b)\n",
    "gradient = Eigengradient(A, ε, ω, b)\n",
    "@show sqrt(new_val) - sqrt(val)\n",
    "dot(δε, gradient)"
   ]
  },
  {
   "cell_type": "code",
   "execution_count": null,
   "id": "ac711700-db70-45b0-bcc9-0e1efa308945",
   "metadata": {},
   "outputs": [],
   "source": [
    "Eigengradient(A, ε, ω, b)"
   ]
  },
  {
   "cell_type": "code",
   "execution_count": null,
   "id": "199e3aff-d672-4cd4-a91f-ce34b153103d",
   "metadata": {},
   "outputs": [],
   "source": [
    "plot(ε)"
   ]
  },
  {
   "cell_type": "code",
   "execution_count": null,
   "id": "6a9583ca-8175-4a6e-b75b-e56084dae5d8",
   "metadata": {},
   "outputs": [],
   "source": []
  }
 ],
 "metadata": {
  "kernelspec": {
   "display_name": "Julia 1.10.4",
   "language": "julia",
   "name": "julia-1.10"
  },
  "language_info": {
   "file_extension": ".jl",
   "mimetype": "application/julia",
   "name": "julia",
   "version": "1.10.4"
  }
 },
 "nbformat": 4,
 "nbformat_minor": 5
}
