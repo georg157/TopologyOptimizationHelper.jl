{
 "cells": [
  {
   "cell_type": "code",
   "execution_count": null,
   "id": "5bcf8d73-e500-4860-96e5-41dcb0d58579",
   "metadata": {},
   "outputs": [],
   "source": [
    "using SparseArrays\n",
    "using LinearAlgebra\n",
    "using NLopt\n",
    "using PyPlot\n",
    "using KrylovKit\n",
    "using Statistics\n",
    "using FiniteDifferences\n",
    "using Revise\n",
    "using IJulia\n",
    "using TopologyOptimizationHelper"
   ]
  },
  {
   "cell_type": "code",
   "execution_count": null,
   "id": "ae4fbbf3-172e-4f8f-ba79-e5c606230004",
   "metadata": {},
   "outputs": [],
   "source": [
    "step = 5e-4\n",
    "inners = [step * i for i in 0:1.5/step]\n",
    "rings = [ring_resonator(ones(N, M), inn, 1.5; resolution=res) for inn in inners]\n",
    "resonator_As = [Maxwell2d(Lx, Ly, ring, ω; resolution=res)[1] for ring in rings]\n",
    "\n",
    "ω₀s = ComplexF64[]\n",
    "for i in 1:length(resonator_As)\n",
    "    omega_current, _ = Eigengradient(resonator_As[i], vec(rings[i]), ω, vec(b))\n",
    "    push!(ω₀s, omega_current)\n",
    "end"
   ]
  },
  {
   "cell_type": "code",
   "execution_count": null,
   "id": "8cc8476a-c750-4fe1-8692-8a45e3166947",
   "metadata": {},
   "outputs": [],
   "source": [
    "plot(inners, -real.(ω₀s) ./ 2imag.(ω₀s))\n",
    "findmax(-real.(ω₀s) ./ 2imag.(ω₀s))\n",
    "\n",
    "xlabel(\"Quality Factor\")\n",
    "ylabel(\"Inner Radius\")"
   ]
  }
 ],
 "metadata": {
  "kernelspec": {
   "display_name": "Julia 1.10.4",
   "language": "julia",
   "name": "julia-1.10"
  },
  "language_info": {
   "file_extension": ".jl",
   "mimetype": "application/julia",
   "name": "julia",
   "version": "1.10.4"
  }
 },
 "nbformat": 4,
 "nbformat_minor": 5
}
