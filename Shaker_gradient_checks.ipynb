{
 "cells": [
  {
   "cell_type": "code",
   "execution_count": 1,
   "id": "b7165ed2-649c-4818-b99c-47c230665ee4",
   "metadata": {},
   "outputs": [
    {
     "name": "stderr",
     "output_type": "stream",
     "text": [
      "\u001b[32m\u001b[1mPrecompiling\u001b[22m\u001b[39m TopologyOptimizationHelper\n",
      "\u001b[32m  ✓ \u001b[39mTopologyOptimizationHelper\n",
      "  1 dependency successfully precompiled in 7 seconds. 39 already precompiled.\n"
     ]
    }
   ],
   "source": [
    "using SparseArrays\n",
    "using LinearAlgebra\n",
    "using NLopt\n",
    "using PyPlot\n",
    "using KrylovKit\n",
    "using FiniteDifferences\n",
    "using Revise\n",
    "using TopologyOptimizationHelper"
   ]
  },
  {
   "cell_type": "code",
   "execution_count": 2,
   "id": "15034c97-1601-4215-834b-cfa106c30441",
   "metadata": {},
   "outputs": [],
   "source": [
    "# Our favorite parameters for testing\n",
    "# Re-run to randomize\n",
    "L = 20\n",
    "ε = rand(480) .* 11 .+ 1\n",
    "δε = randn(length(ε)) * 1e-5\n",
    "ω = 2π\n",
    "δω = randn() * 1e-5\n",
    "\n",
    "A, x = Maxwell1d(L, ε, ω)\n",
    "new_ε_A, _ = Maxwell1d(L, ε + δε, ω)\n",
    "new_ω_A, _ = Maxwell1d(L, ε, ω + δω; ω_pml = ω)\n",
    "\n",
    "M = length(x)\n",
    "b = zeros(M)\n",
    "b[M÷2] = 1;"
   ]
  },
  {
   "cell_type": "code",
   "execution_count": 9,
   "id": "5d44bbd4-e561-4ddc-bcef-24645c5c661f",
   "metadata": {},
   "outputs": [
    {
     "name": "stdout",
     "output_type": "stream",
     "text": [
      "new_ε_LDOS - LDOS = 1.3741776631441357e-10\n"
     ]
    },
    {
     "data": {
      "text/plain": [
       "1.3741223261937758e-10"
      ]
     },
     "execution_count": 9,
     "metadata": {},
     "output_type": "execute_result"
    }
   ],
   "source": [
    "# Exact gradient of LDOS versus numerical gradient\n",
    "LDOS, ∇LDOS = ∇_ε_LDOS(A, ω, b)\n",
    "new_ε_LDOS, _ = ∇_ε_LDOS(new_ε_A, ω, b)\n",
    "\n",
    "@show new_ε_LDOS - LDOS\n",
    "∇LDOS' * δε"
   ]
  },
  {
   "cell_type": "code",
   "execution_count": 4,
   "id": "e6f2090a-345b-46e7-9028-effb7f62c2f7",
   "metadata": {},
   "outputs": [
    {
     "name": "stdout",
     "output_type": "stream",
     "text": [
      "real(new_val) - real(val) = -2.4064662884626387e-7\n",
      "dot(δε, real(gradient)) = -2.406477312601946e-7\n",
      "extrapolate_fdm(central_fdm(2, 1), f, 0) = (-0.03328211831066301 + 5.801695187823441e-5im, 1.288834395300415e-13)\n"
     ]
    },
    {
     "data": {
      "text/plain": [
       "-0.033282118311763295 + 5.801695187374557e-5im"
      ]
     },
     "execution_count": 4,
     "metadata": {},
     "output_type": "execute_result"
    }
   ],
   "source": [
    "# Exact gradient of eigenvalue versus numerical gradient\n",
    "val, gradient = Eigengradient(A, ε, ω, b)\n",
    "test_val, _ = Arnoldi_eig(A, ε, ω, b)\n",
    "new_val, _ = Eigengradient(new_ε_A, ε + δε, ω, b)\n",
    "@show real(new_val) - real(val)\n",
    "@show dot(δε, real(gradient))\n",
    "\n",
    "# Exact gradient of eigenvalue versus Richardson extrapolation\n",
    "dir = randn(M)\n",
    "f = α -> Maxwell_omega(L, ε + α * dir, ω, b)\n",
    "@show extrapolate_fdm(central_fdm(2, 1), f, 0)\n",
    "dir' * gradient"
   ]
  },
  {
   "cell_type": "code",
   "execution_count": 10,
   "id": "a5287f35-8d2b-41b2-9d72-2895285e3473",
   "metadata": {},
   "outputs": [
    {
     "name": "stdout",
     "output_type": "stream",
     "text": [
      "new_ω_LDOS - LDOS = 5.516575073435933e-9\n"
     ]
    },
    {
     "data": {
      "text/plain": [
       "5.506296334671343e-9"
      ]
     },
     "execution_count": 10,
     "metadata": {},
     "output_type": "execute_result"
    }
   ],
   "source": [
    "# Exact gradient of LDOS versus Richardson extrapolation\n",
    "∇LDOS = ∇_ω_LDOS(A, ε, ω, b)\n",
    "new_ω_LDOS, _ = ∇_ε_LDOS(new_ω_A, ω, b)\n",
    "@show new_ω_LDOS - LDOS\n",
    "∇LDOS[1]' * real(δω)"
   ]
  },
  {
   "cell_type": "code",
   "execution_count": 14,
   "id": "f1decc8f-b75d-4e9b-9827-605ff32bd267",
   "metadata": {},
   "outputs": [
    {
     "name": "stdout",
     "output_type": "stream",
     "text": [
      "true_new_LDOS - true_LDOS = -2.1443974608514882e-7\n"
     ]
    },
    {
     "data": {
      "text/plain": [
       "-2.144381386476221e-7"
      ]
     },
     "execution_count": 14,
     "metadata": {},
     "output_type": "execute_result"
    }
   ],
   "source": [
    "ω₀, ∂ω_∂ε = Eigengradient(A, ε, ω, b)\n",
    "A₀, _ = Maxwell1d(L, ε, real(ω₀); ω_pml=ω)\n",
    "true_LDOS, ∂LDOS_∂ε = ∇_ε_LDOS(A₀, real(ω₀), b)\n",
    "∂LDOS_∂ω = ∇_ω_LDOS(A₀, ε, real(ω₀), b)\n",
    "\n",
    "new_ω₀ = Maxwell_omega(L, ε + δε, ω, b)\n",
    "new_A₀, _ = Maxwell1d(L, ε + δε, real(new_ω₀); ω_pml=ω)\n",
    "true_new_LDOS = Just_Improved_LDOS(L, ε + δε, ω, b)\n",
    "\n",
    "true_∇LDOS = ∂LDOS_∂ε .+  ∂LDOS_∂ω .* real.(∂ω_∂ε)\n",
    "\n",
    "@show true_new_LDOS - true_LDOS\n",
    "true_∇LDOS' * δε"
   ]
  },
  {
   "cell_type": "code",
   "execution_count": 15,
   "id": "57985f5e-4d5b-403e-a4ee-ac2d4abc5886",
   "metadata": {},
   "outputs": [
    {
     "name": "stdout",
     "output_type": "stream",
     "text": [
      "extrapolate_fdm(central_fdm(2, 1), f, 0) = (-0.02705025981770696, 1.5797953223373185e-12)\n"
     ]
    },
    {
     "data": {
      "text/plain": [
       "-0.027050259817991716"
      ]
     },
     "execution_count": 15,
     "metadata": {},
     "output_type": "execute_result"
    }
   ],
   "source": [
    "dir = randn(length(ε))\n",
    "\n",
    "f = α -> Just_Improved_LDOS(L, ε + α * dir, ω, b)\n",
    "@show extrapolate_fdm(central_fdm(2, 1), f, 0)\n",
    "dir' * true_∇LDOS"
   ]
  },
  {
   "cell_type": "code",
   "execution_count": 19,
   "id": "9194ee0f-f3d9-44ed-a662-caa85082aaa7",
   "metadata": {},
   "outputs": [
    {
     "name": "stdout",
     "output_type": "stream",
     "text": [
      "TopologyOptimizationHelper.jl: \u001b[91m\u001b[1mError During Test\u001b[22m\u001b[39m at \u001b[39m\u001b[1mIn[19]:42\u001b[22m\n",
      "  Test threw exception\n",
      "  Expression: ≈(sqrt(new_val) - sqrt(val), dot(δε, gradient), atol = 1.0e-10)\n",
      "  DimensionMismatch: x and y are of different lengths!\n",
      "  Stacktrace:\n",
      "   [1] \u001b[0m\u001b[1mdot\u001b[22m\n",
      "  \u001b[90m   @\u001b[39m \u001b[90mC:\\Users\\jorge\\.julia\\juliaup\\julia-1.10.4+0.x64.w64.mingw32\\share\\julia\\stdlib\\v1.10\\LinearAlgebra\\src\\\u001b[39m\u001b[90m\u001b[4mgeneric.jl:871\u001b[24m\u001b[39m\u001b[90m [inlined]\u001b[39m\n",
      "   [2] \u001b[0m\u001b[1mdot\u001b[22m\u001b[0m\u001b[1m(\u001b[22m\u001b[90mx\u001b[39m::\u001b[0mVector\u001b[90m{Float64}\u001b[39m, \u001b[90my\u001b[39m::\u001b[0mTuple\u001b[90m{ComplexF64, Vector{ComplexF64}}\u001b[39m\u001b[0m\u001b[1m)\u001b[22m\n",
      "  \u001b[90m   @\u001b[39m \u001b[35mLinearAlgebra\u001b[39m \u001b[90mC:\\Users\\jorge\\.julia\\juliaup\\julia-1.10.4+0.x64.w64.mingw32\\share\\julia\\stdlib\\v1.10\\LinearAlgebra\\src\\\u001b[39m\u001b[90m\u001b[4mgeneric.jl:868\u001b[24m\u001b[39m\n",
      "   [3] \u001b[0m\u001b[1mmacro expansion\u001b[22m\n",
      "  \u001b[90m   @\u001b[39m \u001b[90mC:\\Users\\jorge\\.julia\\juliaup\\julia-1.10.4+0.x64.w64.mingw32\\share\\julia\\stdlib\\v1.10\\Test\\src\\\u001b[39m\u001b[90m\u001b[4mTest.jl:669\u001b[24m\u001b[39m\u001b[90m [inlined]\u001b[39m\n",
      "   [4] \u001b[0m\u001b[1mmacro expansion\u001b[22m\n",
      "  \u001b[90m   @\u001b[39m \u001b[90m\u001b[4mIn[19]:42\u001b[24m\u001b[39m\u001b[90m [inlined]\u001b[39m\n",
      "   [5] \u001b[0m\u001b[1mmacro expansion\u001b[22m\n",
      "  \u001b[90m   @\u001b[39m \u001b[90mC:\\Users\\jorge\\.julia\\juliaup\\julia-1.10.4+0.x64.w64.mingw32\\share\\julia\\stdlib\\v1.10\\Test\\src\\\u001b[39m\u001b[90m\u001b[4mTest.jl:1577\u001b[24m\u001b[39m\u001b[90m [inlined]\u001b[39m\n",
      "   [6] top-level scope\n",
      "  \u001b[90m   @\u001b[39m \u001b[90m\u001b[4mIn[19]:12\u001b[24m\u001b[39m\n",
      "TopologyOptimizationHelper.jl: \u001b[91m\u001b[1mError During Test\u001b[22m\u001b[39m at \u001b[39m\u001b[1mIn[19]:46\u001b[22m\n",
      "  Test threw exception\n",
      "  Expression: ≈((extrapolate_fdm(central_fdm(2, 1), f, 0))[1], dir' * gradient, atol = 1.0e-10)\n",
      "  MethodError: no method matching *(::Adjoint{Float64, Vector{Float64}}, ::Tuple{ComplexF64, Vector{ComplexF64}})\n",
      "  \n",
      "  \u001b[0mClosest candidates are:\n",
      "  \u001b[0m  *(::Any, ::Any, \u001b[91m::Any\u001b[39m, \u001b[91m::Any...\u001b[39m)\n",
      "  \u001b[0m\u001b[90m   @\u001b[39m \u001b[90mBase\u001b[39m \u001b[90m\u001b[4moperators.jl:587\u001b[24m\u001b[39m\n",
      "  \u001b[0m  *(\u001b[91m::PyCall.PyObject\u001b[39m, ::Any)\n",
      "  \u001b[0m\u001b[90m   @\u001b[39m \u001b[36mPyCall\u001b[39m \u001b[90mC:\\Users\\jorge\\.julia\\packages\\PyCall\\1gn3u\\src\\\u001b[39m\u001b[90m\u001b[4mpyoperators.jl:13\u001b[24m\u001b[39m\n",
      "  \u001b[0m  *(::Any, \u001b[91m::ChainRulesCore.NotImplemented\u001b[39m)\n",
      "  \u001b[0m\u001b[90m   @\u001b[39m \u001b[32mChainRulesCore\u001b[39m \u001b[90mC:\\Users\\jorge\\.julia\\packages\\ChainRulesCore\\I1EbV\\src\\\u001b[39m\u001b[90m\u001b[4mtangent_arithmetic.jl:38\u001b[24m\u001b[39m\n",
      "  \u001b[0m  ...\n",
      "  \n",
      "  Stacktrace:\n",
      "   [1] \u001b[0m\u001b[1mmacro expansion\u001b[22m\n",
      "  \u001b[90m   @\u001b[39m \u001b[90mC:\\Users\\jorge\\.julia\\juliaup\\julia-1.10.4+0.x64.w64.mingw32\\share\\julia\\stdlib\\v1.10\\Test\\src\\\u001b[39m\u001b[90m\u001b[4mTest.jl:669\u001b[24m\u001b[39m\u001b[90m [inlined]\u001b[39m\n",
      "   [2] \u001b[0m\u001b[1mmacro expansion\u001b[22m\n",
      "  \u001b[90m   @\u001b[39m \u001b[90m\u001b[4mIn[19]:46\u001b[24m\u001b[39m\u001b[90m [inlined]\u001b[39m\n",
      "   [3] \u001b[0m\u001b[1mmacro expansion\u001b[22m\n",
      "  \u001b[90m   @\u001b[39m \u001b[90mC:\\Users\\jorge\\.julia\\juliaup\\julia-1.10.4+0.x64.w64.mingw32\\share\\julia\\stdlib\\v1.10\\Test\\src\\\u001b[39m\u001b[90m\u001b[4mTest.jl:1577\u001b[24m\u001b[39m\u001b[90m [inlined]\u001b[39m\n",
      "   [4] top-level scope\n",
      "  \u001b[90m   @\u001b[39m \u001b[90m\u001b[4mIn[19]:12\u001b[24m\u001b[39m\n",
      "TopologyOptimizationHelper.jl: \u001b[91m\u001b[1mError During Test\u001b[22m\u001b[39m at \u001b[39m\u001b[1mIn[19]:10\u001b[22m\n",
      "  Got exception outside of a @test\n",
      "  DimensionMismatch: arrays could not be broadcast to a common size; got a dimension with lengths 480 and 2\n",
      "  Stacktrace:\n",
      "    [1] \u001b[0m\u001b[1m_bcs1\u001b[22m\n",
      "  \u001b[90m    @\u001b[39m \u001b[90m.\\\u001b[39m\u001b[90m\u001b[4mbroadcast.jl:555\u001b[24m\u001b[39m\u001b[90m [inlined]\u001b[39m\n",
      "    [2] \u001b[0m\u001b[1m_bcs\u001b[22m\n",
      "  \u001b[90m    @\u001b[39m \u001b[90m.\\\u001b[39m\u001b[90m\u001b[4mbroadcast.jl:549\u001b[24m\u001b[39m\u001b[90m [inlined]\u001b[39m\n",
      "    [3] \u001b[0m\u001b[1mbroadcast_shape\u001b[22m\n",
      "  \u001b[90m    @\u001b[39m \u001b[90m.\\\u001b[39m\u001b[90m\u001b[4mbroadcast.jl:543\u001b[24m\u001b[39m\u001b[90m [inlined]\u001b[39m\n",
      "    [4] \u001b[0m\u001b[1mcombine_axes\u001b[22m\n",
      "  \u001b[90m    @\u001b[39m \u001b[90m.\\\u001b[39m\u001b[90m\u001b[4mbroadcast.jl:524\u001b[24m\u001b[39m\u001b[90m [inlined]\u001b[39m\n",
      "    [5] \u001b[0m\u001b[1minstantiate\u001b[22m\n",
      "  \u001b[90m    @\u001b[39m \u001b[90m.\\\u001b[39m\u001b[90m\u001b[4mbroadcast.jl:306\u001b[24m\u001b[39m\u001b[90m [inlined]\u001b[39m\n",
      "    [6] \u001b[0m\u001b[1mmaterialize\u001b[22m\u001b[0m\u001b[1m(\u001b[22m\u001b[90mbc\u001b[39m::\u001b[0mBase.Broadcast.Broadcasted\u001b[90m{Base.Broadcast.DefaultArrayStyle{1}, Nothing, typeof(+), Tuple{Vector{Float64}, Base.Broadcast.Broadcasted{Base.Broadcast.DefaultArrayStyle{1}, Nothing, typeof(*), Tuple{Vector{Float64}, Tuple{Float64, Vector{Float64}}}}}}\u001b[39m\u001b[0m\u001b[1m)\u001b[22m\n",
      "  \u001b[90m    @\u001b[39m \u001b[90mBase.Broadcast\u001b[39m \u001b[90m.\\\u001b[39m\u001b[90m\u001b[4mbroadcast.jl:903\u001b[24m\u001b[39m\n",
      "    [7] \u001b[0m\u001b[1mmacro expansion\u001b[22m\n",
      "  \u001b[90m    @\u001b[39m \u001b[90m\u001b[4mIn[19]:64\u001b[24m\u001b[39m\u001b[90m [inlined]\u001b[39m\n",
      "    [8] \u001b[0m\u001b[1mmacro expansion\u001b[22m\n",
      "  \u001b[90m    @\u001b[39m \u001b[90mC:\\Users\\jorge\\.julia\\juliaup\\julia-1.10.4+0.x64.w64.mingw32\\share\\julia\\stdlib\\v1.10\\Test\\src\\\u001b[39m\u001b[90m\u001b[4mTest.jl:1577\u001b[24m\u001b[39m\u001b[90m [inlined]\u001b[39m\n",
      "    [9] top-level scope\n",
      "  \u001b[90m    @\u001b[39m \u001b[90m\u001b[4mIn[19]:12\u001b[24m\u001b[39m\n",
      "   [10] \u001b[0m\u001b[1meval\u001b[22m\n",
      "  \u001b[90m    @\u001b[39m \u001b[90m.\\\u001b[39m\u001b[90m\u001b[4mboot.jl:385\u001b[24m\u001b[39m\u001b[90m [inlined]\u001b[39m\n",
      "   [11] \u001b[0m\u001b[1minclude_string\u001b[22m\u001b[0m\u001b[1m(\u001b[22m\u001b[90mmapexpr\u001b[39m::\u001b[0mtypeof(REPL.softscope), \u001b[90mmod\u001b[39m::\u001b[0mModule, \u001b[90mcode\u001b[39m::\u001b[0mString, \u001b[90mfilename\u001b[39m::\u001b[0mString\u001b[0m\u001b[1m)\u001b[22m\n",
      "  \u001b[90m    @\u001b[39m \u001b[90mBase\u001b[39m \u001b[90m.\\\u001b[39m\u001b[90m\u001b[4mloading.jl:2076\u001b[24m\u001b[39m\n",
      "   [12] \u001b[0m\u001b[1msoftscope_include_string\u001b[22m\u001b[0m\u001b[1m(\u001b[22m\u001b[90mm\u001b[39m::\u001b[0mModule, \u001b[90mcode\u001b[39m::\u001b[0mString, \u001b[90mfilename\u001b[39m::\u001b[0mString\u001b[0m\u001b[1m)\u001b[22m\n",
      "  \u001b[90m    @\u001b[39m \u001b[35mSoftGlobalScope\u001b[39m \u001b[90mC:\\Users\\jorge\\.julia\\packages\\SoftGlobalScope\\u4UzH\\src\\\u001b[39m\u001b[90m\u001b[4mSoftGlobalScope.jl:65\u001b[24m\u001b[39m\n",
      "   [13] \u001b[0m\u001b[1mexecute_request\u001b[22m\u001b[0m\u001b[1m(\u001b[22m\u001b[90msocket\u001b[39m::\u001b[0mZMQ.Socket, \u001b[90mmsg\u001b[39m::\u001b[0mIJulia.Msg\u001b[0m\u001b[1m)\u001b[22m\n",
      "  \u001b[90m    @\u001b[39m \u001b[36mIJulia\u001b[39m \u001b[90mC:\\Users\\jorge\\.julia\\packages\\IJulia\\bHdNn\\src\\\u001b[39m\u001b[90m\u001b[4mexecute_request.jl:67\u001b[24m\u001b[39m\n",
      "   [14] \u001b[0m\u001b[1m#invokelatest#2\u001b[22m\n",
      "  \u001b[90m    @\u001b[39m \u001b[90m.\\\u001b[39m\u001b[90m\u001b[4messentials.jl:892\u001b[24m\u001b[39m\u001b[90m [inlined]\u001b[39m\n",
      "   [15] \u001b[0m\u001b[1minvokelatest\u001b[22m\n",
      "  \u001b[90m    @\u001b[39m \u001b[90m.\\\u001b[39m\u001b[90m\u001b[4messentials.jl:889\u001b[24m\u001b[39m\u001b[90m [inlined]\u001b[39m\n",
      "   [16] \u001b[0m\u001b[1meventloop\u001b[22m\u001b[0m\u001b[1m(\u001b[22m\u001b[90msocket\u001b[39m::\u001b[0mZMQ.Socket\u001b[0m\u001b[1m)\u001b[22m\n",
      "  \u001b[90m    @\u001b[39m \u001b[36mIJulia\u001b[39m \u001b[90mC:\\Users\\jorge\\.julia\\packages\\IJulia\\bHdNn\\src\\\u001b[39m\u001b[90m\u001b[4meventloop.jl:8\u001b[24m\u001b[39m\n",
      "   [17] \u001b[0m\u001b[1m(::IJulia.var\"#15#18\")\u001b[22m\u001b[0m\u001b[1m(\u001b[22m\u001b[0m\u001b[1m)\u001b[22m\n",
      "  \u001b[90m    @\u001b[39m \u001b[36mIJulia\u001b[39m \u001b[90mC:\\Users\\jorge\\.julia\\packages\\IJulia\\bHdNn\\src\\\u001b[39m\u001b[90m\u001b[4meventloop.jl:38\u001b[24m\u001b[39m\n",
      "\u001b[0m\u001b[1mTest Summary:                 | \u001b[22m\u001b[32m\u001b[1mPass  \u001b[22m\u001b[39m\u001b[91m\u001b[1mError  \u001b[22m\u001b[39m\u001b[36m\u001b[1mTotal  \u001b[22m\u001b[39m\u001b[0m\u001b[1mTime\u001b[22m\n",
      "TopologyOptimizationHelper.jl | \u001b[32m   2  \u001b[39m\u001b[91m    3  \u001b[39m\u001b[36m    5  \u001b[39m\u001b[0m0.8s\n"
     ]
    },
    {
     "ename": "LoadError",
     "evalue": "\u001b[91mSome tests did not pass: 2 passed, 0 failed, 3 errored, 0 broken.\u001b[39m",
     "output_type": "error",
     "traceback": [
      "\u001b[91mSome tests did not pass: 2 passed, 0 failed, 3 errored, 0 broken.\u001b[39m",
      "",
      "Stacktrace:",
      " [1] finish(ts::Test.DefaultTestSet; print_results::Bool)",
      "   @ Test C:\\Users\\jorge\\.julia\\juliaup\\julia-1.10.4+0.x64.w64.mingw32\\share\\julia\\stdlib\\v1.10\\Test\\src\\Test.jl:1195",
      " [2] finish(ts::Test.DefaultTestSet)",
      "   @ Test C:\\Users\\jorge\\.julia\\juliaup\\julia-1.10.4+0.x64.w64.mingw32\\share\\julia\\stdlib\\v1.10\\Test\\src\\Test.jl:1170",
      " [3] macro expansion",
      "   @ C:\\Users\\jorge\\.julia\\juliaup\\julia-1.10.4+0.x64.w64.mingw32\\share\\julia\\stdlib\\v1.10\\Test\\src\\Test.jl:1593 [inlined]",
      " [4] top-level scope",
      "   @ In[19]:12"
     ]
    }
   ],
   "source": [
    "using SparseArrays\n",
    "using LinearAlgebra\n",
    "using NLopt\n",
    "using PyPlot\n",
    "using KrylovKit\n",
    "using FiniteDifferences\n",
    "using TopologyOptimizationHelper\n",
    "using Test\n",
    "\n",
    "@testset \"TopologyOptimizationHelper.jl\" begin\n",
    "    # Initialize parameters for testing\n",
    "    L = 20\n",
    "    ε = rand(480) .* 11 .+ 1\n",
    "    δε = randn(length(ε)) * 1e-6\n",
    "    ω = 2π\n",
    "    δω = randn() * 1e-6\n",
    "    dir = randn(length(ε))\n",
    "\n",
    "    A, x = Maxwell1d(L, ε, ω)\n",
    "    new_ε_A, _ = Maxwell1d(L, ε + δε, ω)\n",
    "    new_ω_A, _ = Maxwell1d(L, ε, ω + δω; ω_pml = ω)\n",
    "\n",
    "    M = length(x)\n",
    "    b = zeros(M)\n",
    "    b[M÷2] = 1\n",
    "\n",
    "\n",
    "    # Gradient of LDOS w.r.t. ε\n",
    "    ## Exact gradient versus numerical gradient\n",
    "    LDOS, ∇LDOS = ∇_ε_LDOS(A, ω, b)\n",
    "    \n",
    "    new_ε_LDOS, _ = ∇_ε_LDOS(new_ε_A, ω, b)\n",
    "    @test new_ε_LDOS - LDOS ≈ ∇LDOS' * δε atol=1e-10\n",
    "\n",
    "\n",
    "    # Gradient of eigenvalue w.r.t. ε\n",
    "    ## Exact gradient versus numerical gradient\n",
    "    val, _ = Arnoldi_eig(A, ε, ω, b)\n",
    "    gradient = Eigengradient(A, ε, ω, b)\n",
    "    \n",
    "    new_val, _ = Arnoldi_eig(new_ε_A, ε + δε, ω, b)\n",
    "    @test sqrt(new_val) - sqrt(val) ≈ dot(δε, gradient) atol=1e-10\n",
    "\n",
    "    ## Exact gradient versus Richardson extrapolation\n",
    "    f = α -> Maxwell_omega(L, ε + α * dir, ω, b)\n",
    "    @test extrapolate_fdm(central_fdm(2, 1), f, 0)[1] ≈ dir' * gradient atol=1e-10\n",
    "\n",
    "\n",
    "    # Gradient of LDOS w.r.t. ω \n",
    "    ## Exact gradient versus numerical gradient\n",
    "    ∇LDOS = ∇_ω_LDOS(A, ε, ω, b)\n",
    "    \n",
    "    new_ω_LDOS, _ = ∇_ε_LDOS(new_ω_A, ω, b)\n",
    "    @test new_ω_LDOS - LDOS ≈ ∇LDOS[1] * real(δω) atol=1e-10\n",
    "\n",
    "\n",
    "    # Improved gradient of LDOS w.r.t. ε\n",
    "    ## Exact gradient versus numerical gradient\n",
    "    ω₀ = Maxwell_omega(L, ε, ω, b)\n",
    "    A₀, _ = Maxwell1d(L, ε, real(ω₀); ω_pml=ω)\n",
    "    true_LDOS, ∂LDOS_∂ε = ∇_ε_LDOS(A₀, real(ω₀), b)\n",
    "    ∂LDOS_∂ω = ∇_ω_LDOS(A₀, ε, real(ω₀), b)\n",
    "    ∂ω_∂ε = real.(Eigengradient(A, ε, ω, b))\n",
    "    true_∇LDOS = ∂LDOS_∂ε .+  ∂LDOS_∂ω .* ∂ω_∂ε\n",
    "    \n",
    "    new_ω₀ = Maxwell_omega(L, ε + δε, ω, b)\n",
    "    new_A₀, _ = Maxwell1d(L, ε + δε, real(new_ω₀); ω_pml=ω)\n",
    "    true_new_LDOS = Just_Improved_LDOS(L, ε + δε, ω, b)\n",
    "    @test true_new_LDOS - true_LDOS ≈ true_∇LDOS' * δε atol=1e-10\n",
    "\n",
    "    ## Exact gradient versus Richardson extrapolation\n",
    "    f = α -> Just_Improved_LDOS(L, ε + α * dir, ω, b)\n",
    "    @test extrapolate_fdm(central_fdm(2, 1), f, 0)[1] ≈ dir' * true_∇LDOS atol=1e-10\n",
    "\n",
    "end"
   ]
  },
  {
   "cell_type": "code",
   "execution_count": null,
   "id": "f6b82068-1999-43be-8216-4a73f0f64adf",
   "metadata": {},
   "outputs": [],
   "source": []
  }
 ],
 "metadata": {
  "kernelspec": {
   "display_name": "Julia 1.10.4",
   "language": "julia",
   "name": "julia-1.10"
  },
  "language_info": {
   "file_extension": ".jl",
   "mimetype": "application/julia",
   "name": "julia",
   "version": "1.10.4"
  }
 },
 "nbformat": 4,
 "nbformat_minor": 5
}
