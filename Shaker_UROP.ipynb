{
 "cells": [
  {
   "cell_type": "code",
   "execution_count": 1,
   "id": "26a46071-b78d-4ca3-bedd-efe2fa53ae7d",
   "metadata": {},
   "outputs": [
    {
     "name": "stderr",
     "output_type": "stream",
     "text": [
      "\u001b[32m\u001b[1mPrecompiling\u001b[22m\u001b[39m TopologyOptimizationHelper\n",
      "\u001b[32m  ✓ \u001b[39mTopologyOptimizationHelper\n",
      "  1 dependency successfully precompiled in 8 seconds. 39 already precompiled.\n"
     ]
    }
   ],
   "source": [
    "using SparseArrays\n",
    "using LinearAlgebra\n",
    "using NLopt\n",
    "using PyPlot\n",
    "using KrylovKit\n",
    "using FiniteDifferences\n",
    "using TopologyOptimizationHelper"
   ]
  },
  {
   "cell_type": "code",
   "execution_count": 24,
   "id": "788d22a9-88b0-4d28-9ece-adda8f5de183",
   "metadata": {},
   "outputs": [],
   "source": [
    "# Our favorite parameters for testing\n",
    "# Run to recompute random variables\n",
    "L = 20\n",
    "ε = rand(480) .* 11 .+ 1\n",
    "δε = randn(480) * 1e-6\n",
    "ω = 2π\n",
    "δω = randn() * 1e-6\n",
    "dir = randn(length(ε))\n",
    "\n",
    "A, x = Maxwell1d(L, ε, ω)\n",
    "new_ε_A, _ = Maxwell1d(L, ε + δε, ω)\n",
    "new_ω_A, _ = Maxwell1d(L, ε, ω + δω)\n",
    "\n",
    "M = length(x)\n",
    "b = zeros(M)\n",
    "b[M÷2] = 1;"
   ]
  },
  {
   "cell_type": "code",
   "execution_count": 25,
   "id": "467fb5ec-512e-4c6e-8467-5e32f127bcff",
   "metadata": {},
   "outputs": [
    {
     "name": "stdout",
     "output_type": "stream",
     "text": [
      "new_LDOS - LDOS = -2.5824369474093918e-15\n"
     ]
    },
    {
     "data": {
      "text/plain": [
       "-2.5824520927242653e-15"
      ]
     },
     "execution_count": 25,
     "metadata": {},
     "output_type": "execute_result"
    }
   ],
   "source": [
    "# Exact ∇_ε_LDOS versus finite difference\n",
    "LDOS, ∇LDOS = ∇_ε_LDOS(A, b, ω)\n",
    "new_LDOS, _ = ∇_ε_LDOS(new_ε_A, b, ω)\n",
    "\n",
    "@show new_LDOS - LDOS\n",
    "∇LDOS' * δε"
   ]
  },
  {
   "cell_type": "code",
   "execution_count": 26,
   "id": "58593b00-30e6-41cf-a292-0dc1ce97b7f9",
   "metadata": {},
   "outputs": [
    {
     "name": "stdout",
     "output_type": "stream",
     "text": [
      "sqrt(new_val) - sqrt(val) = 0.14056922149473294 - 0.003365397847981965im\n",
      "dot(δε, gradient) = 1.4014226055812528e-7 + 9.571107022653217e-13im\n",
      "extrapolate_fdm(central_fdm(2, 1), f, 0) = (-0.015876694860308238 + 2.0723175871000079e-7im, 4.72337530883195e-13)\n"
     ]
    },
    {
     "data": {
      "text/plain": [
       "-0.015876694860008013 + 2.0723175863034393e-7im"
      ]
     },
     "execution_count": 26,
     "metadata": {},
     "output_type": "execute_result"
    }
   ],
   "source": [
    "# Exact ∇_ε_ω₀ versus finite difference\n",
    "val, _ = Arnoldi_eig(A, ε, ω, b)\n",
    "new_val, _ = Arnoldi_eig(new_A, ε + δε, ω, b)\n",
    "gradient = Eigengradient(A, ε, ω, b)\n",
    "@show sqrt(new_val) - sqrt(val)\n",
    "@show dot(δε, gradient)\n",
    "\n",
    "# Exact ∇_ε_ω₀ versus Richardson extrapolation \n",
    "f = α -> Maxwell_omega(L, ε + α * dir, ω, b)\n",
    "@show extrapolate_fdm(central_fdm(2, 1), f, 0)\n",
    "dir' * gradient"
   ]
  },
  {
   "cell_type": "code",
   "execution_count": 28,
   "id": "cf426fb1-766d-46f8-b852-346b770cfb0c",
   "metadata": {},
   "outputs": [
    {
     "name": "stdout",
     "output_type": "stream",
     "text": [
      "new_LDOS - LDOS = -4.757748480451429e-15\n"
     ]
    },
    {
     "data": {
      "text/plain": [
       "1-element Vector{Float64}:\n",
       " -4.757801000413143e-15"
      ]
     },
     "execution_count": 28,
     "metadata": {},
     "output_type": "execute_result"
    }
   ],
   "source": [
    "# Exact ∇_ω_LDOS versus finite difference\n",
    "∇LDOS = ∇_ω_LDOS(A, b, ε, ω)\n",
    "LDOS = Just_LDOS(L, ε, ω, b)\n",
    "new_LDOS = Just_LDOS(L, ε, ω + δω, b; ω_pml=ω)\n",
    "\n",
    "@show new_LDOS - LDOS\n",
    "∇LDOS * real(δω)"
   ]
  },
  {
   "cell_type": "code",
   "execution_count": 29,
   "id": "7a2b370f-1c84-4b4f-8832-f09ed5ce085d",
   "metadata": {},
   "outputs": [
    {
     "name": "stdout",
     "output_type": "stream",
     "text": [
      "new_LDOS - LDOS = 0.000191539875061153\n",
      "∇LDOS' * δε = 0.00019153980706303634\n",
      "extrapolate_fdm(central_fdm(2, 1), f, 0) = (-136.94919726108344, 3.6314787621449796e-8)\n"
     ]
    },
    {
     "data": {
      "text/plain": [
       "-136.94919726302587"
      ]
     },
     "execution_count": 29,
     "metadata": {},
     "output_type": "execute_result"
    }
   ],
   "source": [
    "# Exact improved gradient versus finite difference\n",
    "ω₀ = sqrt(Arnoldi_eig(A, ε, ω, b)[1])\n",
    "A₀, _ = Maxwell1d(L, ε, real(ω₀); ω_pml=ω)\n",
    "LDOS, ∇LDOS = Improved_∇_ε_LDOS(A₀, ε, real(ω₀), b; ω_pml=ω)\n",
    "new_LDOS =  Just_Improved_LDOS(L, ε + δε, ω, b)\n",
    "@show new_LDOS - LDOS\n",
    "@show ∇LDOS' * δε\n",
    "\n",
    "# Exact improved gradient versus Richardson extrapolation\n",
    "f = α -> Just_Improved_LDOS(L, ε + α * dir, ω, b)\n",
    "@show extrapolate_fdm(central_fdm(2, 1), f, 0)\n",
    "dir' * ∇LDOS"
   ]
  }
 ],
 "metadata": {
  "kernelspec": {
   "display_name": "Julia 1.10.4",
   "language": "julia",
   "name": "julia-1.10"
  },
  "language_info": {
   "file_extension": ".jl",
   "mimetype": "application/julia",
   "name": "julia",
   "version": "1.10.4"
  }
 },
 "nbformat": 4,
 "nbformat_minor": 5
}
